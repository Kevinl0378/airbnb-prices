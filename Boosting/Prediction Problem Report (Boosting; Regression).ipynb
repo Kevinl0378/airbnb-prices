{
 "cells": [
  {
   "cell_type": "raw",
   "id": "b1c13c80",
   "metadata": {},
   "source": [
    "---\n",
    "title: \"Prediction Problem Report (Boosting; Regression)\"\n",
    "format: \n",
    "  html:\n",
    "    toc: true\n",
    "    toc-title: Contents\n",
    "    toc-depth: 4\n",
    "    code-fold: show\n",
    "    self-contained: true\n",
    "    html-math-method: mathml \n",
    "jupyter: python3\n",
    "---"
   ]
  },
  {
   "cell_type": "code",
   "execution_count": 86,
   "id": "f5eb66ff",
   "metadata": {},
   "outputs": [],
   "source": [
    "import warnings\n",
    "warnings.filterwarnings('ignore')\n",
    "\n",
    "import pandas as pd\n",
    "import numpy as np\n",
    "import seaborn as sns\n",
    "import matplotlib.pyplot as plt\n",
    "import time as time\n",
    "import os\n",
    "\n",
    "from sklearn.preprocessing import PolynomialFeatures, StandardScaler\n",
    "\n",
    "from sklearn.linear_model import LinearRegression, Ridge, RidgeCV, Lasso, LassoCV, LogisticRegressionCV, LogisticRegression, ElasticNet\n",
    "\n",
    "from sklearn.neighbors import KNeighborsRegressor\n",
    "\n",
    "from sklearn.feature_selection import SelectKBest, mutual_info_regression\n",
    "\n",
    "from sklearn.model_selection import train_test_split, cross_val_score, cross_val_predict, cross_validate, \\\n",
    "GridSearchCV, RandomizedSearchCV, ParameterGrid, KFold, StratifiedKFold, RepeatedKFold, RepeatedStratifiedKFold\n",
    "from skopt import BayesSearchCV\n",
    "\n",
    "from sklearn.tree import DecisionTreeRegressor,DecisionTreeClassifier\n",
    "\n",
    "from sklearn.ensemble import BaggingRegressor,BaggingClassifier,RandomForestRegressor,RandomForestClassifier, \\\n",
    "VotingRegressor, VotingClassifier, StackingRegressor, StackingClassifier\n",
    "\n",
    "from sklearn.ensemble import GradientBoostingRegressor, GradientBoostingClassifier, AdaBoostRegressor,AdaBoostClassifier\n",
    "import xgboost as xgb\n",
    "from lightgbm import LGBMRegressor\n",
    "from catboost import CatBoostRegressor, Pool\n",
    "\n",
    "from sklearn.metrics import roc_curve, precision_recall_curve, auc, make_scorer, recall_score, \\\n",
    "accuracy_score, precision_score, confusion_matrix, mean_squared_error, r2_score, mean_absolute_error\n",
    "\n",
    "from sklearn.compose import ColumnTransformer\n",
    "from sklearn.pipeline import Pipeline\n",
    "\n",
    "from skopt import BayesSearchCV\n",
    "from skopt.space import Real, Categorical, Integer\n",
    "from skopt.plots import plot_objective, plot_histogram, plot_convergence\n",
    "\n",
    "from sklearn import impute\n",
    "import ast\n",
    "import itertools as it\n",
    "from sklearn.tree import export_graphviz \n",
    "from six import StringIO\n",
    "from IPython.display import Image  \n",
    "import pydotplus\n",
    "\n",
    "os.getcwd()\n",
    "os.chdir('/Users/kevin/Downloads/Northwestern University/Data Science/STAT_303-3/Prediction Problems/Datasets')"
   ]
  },
  {
   "cell_type": "markdown",
   "id": "95e86f05",
   "metadata": {},
   "source": [
    "## Step 0) Read data"
   ]
  },
  {
   "cell_type": "code",
   "execution_count": 2,
   "id": "06025554",
   "metadata": {},
   "outputs": [],
   "source": [
    "train = pd.read_csv('train_regression.csv')\n",
    "test = pd.read_csv('test_regression.csv')"
   ]
  },
  {
   "cell_type": "markdown",
   "id": "3b5d4b16",
   "metadata": {},
   "source": [
    "## Step 1) Data pre-processing"
   ]
  },
  {
   "cell_type": "markdown",
   "id": "d47320e0",
   "metadata": {},
   "source": [
    "### <font color = 'red'>Pre-processing training data</font>"
   ]
  },
  {
   "cell_type": "code",
   "execution_count": 151,
   "id": "66885671",
   "metadata": {},
   "outputs": [],
   "source": [
    "# Cleaning the columns\n",
    "\n",
    "\n",
    "first_ten = train.iloc[:, :10]\n",
    "\n",
    "# Removing: ['id', 'host_location', 'host_neighbourhood']\n",
    "cleaned_ten = first_ten.drop(columns=['id', 'host_id', 'host_location', 'host_neighbourhood'])\n",
    "\n",
    "# Converting: ['host_response_rate', 'host_acceptance_rate', 'host_is_superhost', 'host_since']\n",
    "cleaned_ten['host_response_rate'] = pd.to_numeric(cleaned_ten['host_response_rate'].str.strip('%')) / 100\n",
    "cleaned_ten['host_acceptance_rate'] = pd.to_numeric(cleaned_ten['host_acceptance_rate'].str.strip('%')) / 100\n",
    "cleaned_ten['host_is_superhost'] = cleaned_ten['host_is_superhost'].map({'t': 1, 'f': 0})\n",
    "cleaned_ten['host_since'] = pd.to_datetime(cleaned_ten['host_since'])\n",
    "cleaned_ten['days_since_host'] = (pd.datetime.now() - cleaned_ten['host_since']).dt.days\n",
    "cleaned_ten = cleaned_ten.drop(columns=['host_since'])\n",
    "\n",
    "\n",
    "\n",
    "second_ten = train.iloc[:, 10:20]\n",
    "\n",
    "# Converting: ['host_has_profile_pic', 'neighbourhood_cleansed', 'host_identity_verified','latitude', 'longitude', 'property_type', 'room_type']\n",
    "cleaned_twenty = second_ten\n",
    "neighbourhood_counts = cleaned_twenty.neighbourhood_cleansed.value_counts()\n",
    "neighbourhoods_to_replace = neighbourhood_counts[neighbourhood_counts < 107].index.tolist()\n",
    "cleaned_twenty['neighbourhood_cleansed'] = cleaned_twenty['neighbourhood_cleansed'].replace(neighbourhoods_to_replace, 'Other')\n",
    "cleaned_twenty['num_verifications'] = cleaned_twenty['host_verifications'].apply(lambda x: len(ast.literal_eval(x)))\n",
    "cleaned_twenty = cleaned_twenty.drop(columns=['host_verifications'])\n",
    "cleaned_twenty['host_has_profile_pic'] = cleaned_twenty['host_has_profile_pic'].map({'t': 1, 'f': 0})\n",
    "cleaned_twenty['host_identity_verified'] = cleaned_twenty['host_identity_verified'].map({'t': 1, 'f': 0})\n",
    "cleaned_twenty['latitude'] = pd.to_numeric(cleaned_twenty['latitude'])\n",
    "cleaned_twenty['longitude'] = pd.to_numeric(cleaned_twenty['longitude'])\n",
    "cleaned_twenty['property_category'] = \"Entire property\"\n",
    "cleaned_twenty.loc[cleaned_twenty['property_type'].str.contains('room', case=False), 'property_category'] = 'Room'\n",
    "cleaned_twenty = cleaned_twenty.drop(columns=['property_type'])\n",
    "\n",
    "\n",
    "\n",
    "third_ten = train.iloc[:, 20:30]\n",
    "\n",
    "# Converting: ['bathrooms_text', 'price']\n",
    "\n",
    "third_ten['bathrooms_text'] = third_ten['bathrooms_text'].replace({\"Half-bath\": \"0.5\", \"Shared half-bath\": \"0.5\", \"Private half-bath\": \"0.5\"})\n",
    "third_ten['num_bathrooms'] = third_ten['bathrooms_text'].str.extract(r'(\\d+(\\.\\d+)?)')[0].astype(float)\n",
    "cleaned_third = third_ten.drop(columns=['bathrooms_text'])\n",
    "cleaned_third['price'] = cleaned_third['price'].str.replace('[$,]', '', regex=True).astype(float)\n",
    "\n",
    "\n",
    "\n",
    "fourth_ten = train.iloc[:, 30:40]\n",
    "fourth_ten.dtypes\n",
    "\n",
    "# Removing: ['first_review']\n",
    "# Converting: ['has_availability']\n",
    "\n",
    "cleaned_fourth = fourth_ten.drop(columns=['first_review'])\n",
    "cleaned_fourth['has_availability'] = cleaned_fourth['has_availability'].map({'t': 1, 'f': 0})\n",
    "\n",
    "\n",
    "\n",
    "fifth_ten = train.iloc[:, 40:50]\n",
    "fifth_ten\n",
    "\n",
    "# Removing: ['last_review']\n",
    "# Converting: ['instant_bookable']\n",
    "\n",
    "cleaned_fifth = fifth_ten.drop(columns=['last_review'])\n",
    "cleaned_fifth['instant_bookable'] = cleaned_fifth['instant_bookable'].map({'t': 1, 'f': 0})\n",
    "\n",
    "\n",
    "\n",
    "last_four = train.iloc[:, 50:]"
   ]
  },
  {
   "cell_type": "code",
   "execution_count": 152,
   "id": "af5de158",
   "metadata": {},
   "outputs": [],
   "source": [
    "# Combining the cleaned datasets\n",
    "\n",
    "cleaned_train = pd.concat([cleaned_ten, cleaned_twenty, cleaned_third, cleaned_fourth, cleaned_fifth, last_four], axis=1)"
   ]
  },
  {
   "cell_type": "code",
   "execution_count": 153,
   "id": "a05117ab",
   "metadata": {},
   "outputs": [],
   "source": [
    "columns_with_missing = ['num_bathrooms', 'reviews_per_month', 'host_is_superhost', \n",
    "                        'review_scores_rating', 'host_response_rate', \n",
    "                        'host_acceptance_rate', 'beds', 'review_scores_communication', \n",
    "                        'review_scores_cleanliness', 'review_scores_accuracy', \n",
    "                        'review_scores_value', 'review_scores_location', 'review_scores_checkin']"
   ]
  },
  {
   "cell_type": "code",
   "execution_count": 154,
   "id": "7aa0a261",
   "metadata": {},
   "outputs": [],
   "source": [
    "# Computing the missing values of dummy variables using mode\n",
    "\n",
    "cleaned_train['host_is_superhost'].fillna(cleaned_train['host_is_superhost'].mode()[0], inplace=True)\n",
    "cleaned_train['host_response_time'].fillna(cleaned_train['host_response_time'].mode()[0], inplace=True)"
   ]
  },
  {
   "cell_type": "code",
   "execution_count": 155,
   "id": "885bcf42",
   "metadata": {},
   "outputs": [],
   "source": [
    "# Computing the missing values of numeric variables using KNN\n",
    "\n",
    "knn_imputer = impute.KNNImputer(n_neighbors=10)\n",
    "cleaned_train_imputed = knn_imputer.fit_transform(cleaned_train[columns_with_missing])\n",
    "cleaned_train_imputed_df = pd.DataFrame(cleaned_train_imputed, columns=columns_with_missing)\n",
    "cleaned_train[columns_with_missing] = cleaned_train_imputed_df"
   ]
  },
  {
   "cell_type": "code",
   "execution_count": 156,
   "id": "672dc26d",
   "metadata": {},
   "outputs": [],
   "source": [
    "to_be_removed = ['review_scores_communication','review_scores_cleanliness', 'number_of_reviews_l30d', \\\n",
    "                                'review_scores_accuracy', 'review_scores_value','review_scores_location', \\\n",
    "                                'review_scores_checkin', 'minimum_minimum_nights', 'maximum_minimum_nights', \\\n",
    "                                'minimum_maximum_nights', 'maximum_maximum_nights', 'availability_60', \\\n",
    "                                'availability_90', 'availability_365','calculated_host_listings_count',\n",
    "                                'calculated_host_listings_count_entire_homes', 'host_listings_count']"
   ]
  },
  {
   "cell_type": "code",
   "execution_count": 157,
   "id": "13492e2a",
   "metadata": {},
   "outputs": [],
   "source": [
    "y_train = np.log(cleaned_train.price)\n",
    "X_train = cleaned_train.drop(columns = 'price')"
   ]
  },
  {
   "cell_type": "code",
   "execution_count": 158,
   "id": "595e3cf9",
   "metadata": {},
   "outputs": [],
   "source": [
    "X_train_onehot = pd.get_dummies(X_train, drop_first = True)"
   ]
  },
  {
   "cell_type": "code",
   "execution_count": 159,
   "id": "bb666d95",
   "metadata": {},
   "outputs": [],
   "source": [
    "X_train_non_redundant = X_train.copy()\n",
    "X_train_non_redundant.drop(columns = to_be_removed, inplace = True)\n",
    "X_train_non_redundant = pd.get_dummies(X_train_non_redundant, drop_first = True)"
   ]
  },
  {
   "cell_type": "markdown",
   "id": "2d0de11f",
   "metadata": {},
   "source": [
    "#### <font color = 'black'>PolynomialFeatures</font>"
   ]
  },
  {
   "cell_type": "markdown",
   "id": "69efec19",
   "metadata": {},
   "source": [
    "**Non redundant**"
   ]
  },
  {
   "cell_type": "code",
   "execution_count": 160,
   "id": "2d013297",
   "metadata": {},
   "outputs": [],
   "source": [
    "poly = PolynomialFeatures(2, include_bias = False)\n",
    "X_train_poly = poly.fit_transform(X_train_non_redundant)"
   ]
  },
  {
   "cell_type": "code",
   "execution_count": 161,
   "id": "89ce9d7e",
   "metadata": {},
   "outputs": [],
   "source": [
    "X_train_non_scaled_poly_df = pd.DataFrame(X_train_poly, columns = poly.get_feature_names_out(X_train_non_redundant.columns))"
   ]
  },
  {
   "cell_type": "markdown",
   "id": "ab0572e0",
   "metadata": {},
   "source": [
    "**Redundant**"
   ]
  },
  {
   "cell_type": "code",
   "execution_count": 162,
   "id": "ad1682c7",
   "metadata": {},
   "outputs": [],
   "source": [
    "poly_redundant = PolynomialFeatures(2, include_bias = False)\n",
    "X_train_redundant_poly = poly_redundant.fit_transform(X_train_onehot)\n",
    "X_train_redundant_poly_df = pd.DataFrame(X_train_redundant_poly, columns = poly_redundant.get_feature_names_out(X_train_onehot.columns))"
   ]
  },
  {
   "cell_type": "markdown",
   "id": "a632123e",
   "metadata": {},
   "source": [
    "### <font color = 'red'>Pre-processing test data</font>"
   ]
  },
  {
   "cell_type": "code",
   "execution_count": 133,
   "id": "25b6ecbd",
   "metadata": {},
   "outputs": [],
   "source": [
    "# Cleaning the test data\n",
    "\n",
    "first_ten = test.iloc[:, :10]\n",
    "first_ten\n",
    "\n",
    "# Removing: ['host_location', 'host_neighbourhood']\n",
    "# Converting: ['host_response_rate', 'host_acceptance_rate', 'host_is_superhost']\n",
    "\n",
    "cleaned_ten = first_ten.drop(columns=['host_location', 'host_neighbourhood'])\n",
    "\n",
    "cleaned_ten['host_response_rate'] = pd.to_numeric(cleaned_ten['host_response_rate'].str.strip('%')) / 100\n",
    "cleaned_ten['host_acceptance_rate'] = pd.to_numeric(cleaned_ten['host_acceptance_rate'].str.strip('%')) / 100\n",
    "cleaned_ten['host_is_superhost'] = cleaned_ten['host_is_superhost'].map({'t': 1, 'f': 0})\n",
    "cleaned_ten['host_since'] = pd.to_datetime(cleaned_ten['host_since'])\n",
    "cleaned_ten['days_since_host'] = (pd.datetime.now() - cleaned_ten['host_since']).dt.days\n",
    "cleaned_ten = cleaned_ten.drop(columns=['host_since'])\n",
    "\n",
    "\n",
    "\n",
    "second_ten = test.iloc[:, 10:20]\n",
    "\n",
    "# Consider removing: []\n",
    "# Consider converting: ['host_has_profile_pic', 'host_identity_verified','latitude', 'longitude', 'property_type', 'room_type']\n",
    "\n",
    "cleaned_twenty = second_ten\n",
    "neighbourhood_counts = cleaned_twenty.neighbourhood_cleansed.value_counts()\n",
    "neighbourhoods_to_replace = neighbourhood_counts[neighbourhood_counts < 64].index.tolist()\n",
    "cleaned_twenty['neighbourhood_cleansed'] = cleaned_twenty['neighbourhood_cleansed'].replace(neighbourhoods_to_replace, 'Other')\n",
    "cleaned_twenty['num_verifications'] = cleaned_twenty['host_verifications'].apply(lambda x: len(ast.literal_eval(x)))\n",
    "cleaned_twenty = cleaned_twenty.drop(columns=['host_verifications'])\n",
    "cleaned_twenty['host_has_profile_pic'] = cleaned_twenty['host_has_profile_pic'].map({'t': 1, 'f': 0})\n",
    "cleaned_twenty['host_identity_verified'] = cleaned_twenty['host_identity_verified'].map({'t': 1, 'f': 0})\n",
    "cleaned_twenty['latitude'] = pd.to_numeric(cleaned_twenty['latitude'])\n",
    "cleaned_twenty['longitude'] = pd.to_numeric(cleaned_twenty['longitude'])\n",
    "cleaned_twenty['property_category'] = \"Entire property\"\n",
    "cleaned_twenty.loc[cleaned_twenty['property_type'].str.contains('room', case=False), 'property_category'] = 'Room'\n",
    "cleaned_twenty = cleaned_twenty.drop(columns=['property_type'])\n",
    "\n",
    "\n",
    "\n",
    "third_ten = test.iloc[:, 20:30]\n",
    "\n",
    "# Converting: ['bathrooms_text']\n",
    "\n",
    "third_ten['bathrooms_text'] = third_ten['bathrooms_text'].replace({\"Half-bath\": \"0.5\", \"Shared half-bath\": \"0.5\", \"Private half-bath\": \"0.5\"})\n",
    "third_ten['num_bathrooms'] = third_ten['bathrooms_text'].str.extract(r'(\\d+(\\.\\d+)?)')[0].astype(float)\n",
    "cleaned_third = third_ten.drop(columns=['bathrooms_text'])\n",
    "\n",
    "\n",
    "\n",
    "fourth_ten = test.iloc[:, 30:40]\n",
    "\n",
    "# Removing: ['first_review', 'last_review']\n",
    "# Converting: ['has_availability']\n",
    "\n",
    "cleaned_fourth = fourth_ten.drop(columns=['first_review', 'last_review'])\n",
    "cleaned_fourth['has_availability'] = cleaned_fourth['has_availability'].map({'t': 1, 'f': 0})\n",
    "\n",
    "\n",
    "\n",
    "fifth_ten = test.iloc[:, 40:50]\n",
    "\n",
    "# Consider removing: []\n",
    "# Consider converting: ['instant_bookable']\n",
    "\n",
    "fifth_ten['instant_bookable'] = fifth_ten['instant_bookable'].map({'t': 1, 'f': 0})\n",
    "\n",
    "last_three = test.iloc[:, 50:]"
   ]
  },
  {
   "cell_type": "code",
   "execution_count": 134,
   "id": "78c7d57b",
   "metadata": {},
   "outputs": [],
   "source": [
    "# Combining the test datasets\n",
    "cleaned_test = pd.concat([cleaned_ten, cleaned_twenty, cleaned_third, cleaned_fourth, fifth_ten, last_three], axis=1)"
   ]
  },
  {
   "cell_type": "code",
   "execution_count": 135,
   "id": "f59f9de1",
   "metadata": {},
   "outputs": [],
   "source": [
    "copy_ct = cleaned_test.copy()\n",
    "\n",
    "copy_ct['host_is_superhost'].fillna(copy_ct['host_is_superhost'].mode()[0], inplace=True)\n",
    "copy_ct['host_response_time'].fillna(copy_ct['host_response_time'].mode()[0], inplace=True)\n",
    "\n",
    "columns_with_missing = ['num_bathrooms', 'reviews_per_month', 'host_is_superhost', \n",
    "                        'review_scores_rating', 'host_response_rate', \n",
    "                        'host_acceptance_rate', 'beds', 'review_scores_communication', \n",
    "                        'review_scores_cleanliness', 'review_scores_accuracy', \n",
    "                        'review_scores_value', 'review_scores_location', 'review_scores_checkin']\n",
    "\n",
    "knn_imputer = impute.KNNImputer(n_neighbors=10)\n",
    "copy_ct_imputed = knn_imputer.fit_transform(copy_ct[columns_with_missing])\n",
    "copy_ct_imputed_df = pd.DataFrame(copy_ct_imputed, columns=columns_with_missing)\n",
    "copy_ct[columns_with_missing] = copy_ct_imputed_df"
   ]
  },
  {
   "cell_type": "code",
   "execution_count": 136,
   "id": "7601048e",
   "metadata": {},
   "outputs": [],
   "source": [
    "X_test_non_redundant = copy_ct.drop(columns = to_be_removed)\n",
    "X_test_non_redundant = pd.get_dummies(X_test_non_redundant, drop_first = True)\n",
    "X_test_non_redundant = X_test_non_redundant.iloc[:, 2:]"
   ]
  },
  {
   "cell_type": "markdown",
   "id": "df2d0811",
   "metadata": {},
   "source": [
    "#### <font color = 'black'>PolynomialFeatures</font>"
   ]
  },
  {
   "cell_type": "code",
   "execution_count": 137,
   "id": "4217c0e9",
   "metadata": {},
   "outputs": [],
   "source": [
    "poly_test = PolynomialFeatures(2, include_bias = False)\n",
    "poly_test.fit(X_test_non_redundant)\n",
    "X_test_poly = poly_test.transform(X_test_non_redundant)"
   ]
  },
  {
   "cell_type": "code",
   "execution_count": 138,
   "id": "4f948d9c",
   "metadata": {},
   "outputs": [],
   "source": [
    "X_test_non_scaled_poly_df = pd.DataFrame(X_test_poly, columns = poly_test.get_feature_names_out(X_test_non_redundant.columns))"
   ]
  },
  {
   "cell_type": "code",
   "execution_count": 139,
   "id": "73ac5b02",
   "metadata": {},
   "outputs": [],
   "source": [
    "poly_test_all = PolynomialFeatures(2, include_bias = False)\n",
    "poly_test_all.fit(pd.get_dummies(copy_ct, drop_first = True))\n",
    "X_test_all = poly_test_all.transform(pd.get_dummies(copy_ct, drop_first = True))\n",
    "X_test_all_df = pd.DataFrame(X_test_all, columns = poly_test_all.get_feature_names_out(pd.get_dummies(copy_ct, drop_first = True).columns))"
   ]
  },
  {
   "cell_type": "markdown",
   "id": "730eaefd",
   "metadata": {},
   "source": [
    "## 2) Hyperparameter tuning"
   ]
  },
  {
   "cell_type": "markdown",
   "id": "7f9b39b7",
   "metadata": {},
   "source": [
    "### How many attempts did it take you to tune the model hyperparameters?"
   ]
  },
  {
   "cell_type": "markdown",
   "id": "5a6f50fd",
   "metadata": {},
   "source": [
    "### Which tuning method did you use (grid search / Bayes search / etc.)?"
   ]
  },
  {
   "cell_type": "markdown",
   "id": "9a0da667",
   "metadata": {},
   "source": [
    "### What challenges did you face while tuning the hyperparameters, and what actions did you take to address those challenges?"
   ]
  },
  {
   "cell_type": "markdown",
   "id": "4f26daac",
   "metadata": {},
   "source": [
    "### How many hours did you spend on hyperparameter tuning?"
   ]
  },
  {
   "cell_type": "markdown",
   "id": "0ba4abb9",
   "metadata": {},
   "source": [
    "### Hyperparameter tuning code"
   ]
  },
  {
   "cell_type": "markdown",
   "id": "81e0b390",
   "metadata": {},
   "source": [
    "## <font color = 'red'>Variable selection</font>"
   ]
  },
  {
   "cell_type": "markdown",
   "id": "19c21dcd",
   "metadata": {},
   "source": [
    "### Lasso"
   ]
  },
  {
   "cell_type": "code",
   "execution_count": 21,
   "id": "84fe7197",
   "metadata": {},
   "outputs": [],
   "source": [
    "scaler = StandardScaler()\n",
    "scaler.fit(X_train_poly)\n",
    "X_train_scaled = scaler.transform(X_train_poly)"
   ]
  },
  {
   "cell_type": "code",
   "execution_count": 22,
   "id": "98209e6f",
   "metadata": {},
   "outputs": [
    {
     "name": "stdout",
     "output_type": "stream",
     "text": [
      "0.002833096101839324\n",
      "Time taken =  7.12 minutes\n"
     ]
    }
   ],
   "source": [
    "start_time = time.time()\n",
    "\n",
    "# Lasso for variable selection\n",
    "alphas = np.logspace(-1,-5,200)\n",
    "lassocv = LassoCV(alphas = alphas, cv = 10, max_iter = 1000)\n",
    "lassocv.fit(X_train_scaled, y_train)\n",
    "\n",
    "print(lassocv.alpha_)\n",
    "\n",
    "print(\"Time taken = \", np.round((time.time() - start_time)/60,2), \"minutes\")"
   ]
  },
  {
   "cell_type": "code",
   "execution_count": 23,
   "id": "fa9ef768",
   "metadata": {},
   "outputs": [],
   "source": [
    "lasso = Lasso(alpha = lassocv.alpha_)\n",
    "lasso.fit(X_train_scaled, y_train)\n",
    "coefficients = {}\n",
    "for i in range(len(lasso.coef_)):\n",
    "    coefficients[poly.get_feature_names_out()[i]] = lasso.coef_[i]"
   ]
  },
  {
   "cell_type": "code",
   "execution_count": 24,
   "id": "f4c88b77",
   "metadata": {},
   "outputs": [],
   "source": [
    "coefficients = pd.Series(data = coefficients)\n",
    "non_zero_coefficients = coefficients[coefficients != 0]"
   ]
  },
  {
   "cell_type": "code",
   "execution_count": 54,
   "id": "9d759127",
   "metadata": {},
   "outputs": [
    {
     "data": {
      "text/plain": [
       "latitude                                                        0.052021\n",
       "longitude                                                       0.018012\n",
       "accommodates                                                    0.090814\n",
       "beds                                                            0.026985\n",
       "num_bathrooms                                                   0.176340\n",
       "                                                                  ...   \n",
       "neighbourhood_cleansed_Near West Side room_type_Private room   -0.013930\n",
       "neighbourhood_cleansed_Uptown property_category_Room            0.013885\n",
       "neighbourhood_cleansed_West Town room_type_Hotel room           0.031783\n",
       "neighbourhood_cleansed_West Town room_type_Shared room          0.003070\n",
       "neighbourhood_cleansed_West Town property_category_Room         0.023231\n",
       "Length: 283, dtype: float64"
      ]
     },
     "execution_count": 54,
     "metadata": {},
     "output_type": "execute_result"
    }
   ],
   "source": [
    "non_zero_coefficients"
   ]
  },
  {
   "cell_type": "markdown",
   "id": "35932ca8",
   "metadata": {},
   "source": [
    "### SelectKBest"
   ]
  },
  {
   "cell_type": "code",
   "execution_count": 69,
   "id": "58d76ece",
   "metadata": {},
   "outputs": [],
   "source": [
    "selector = SelectKBest(score_func=mutual_info_regression, k=300)\n",
    "X_train_selectkbest_df = pd.DataFrame(selector.fit_transform(X_train_redundant_poly_df, y_train), columns = selector.get_feature_names_out())"
   ]
  },
  {
   "cell_type": "code",
   "execution_count": 59,
   "id": "72c454f9",
   "metadata": {
    "scrolled": true
   },
   "outputs": [
    {
     "data": {
      "text/html": [
       "<div>\n",
       "<style scoped>\n",
       "    .dataframe tbody tr th:only-of-type {\n",
       "        vertical-align: middle;\n",
       "    }\n",
       "\n",
       "    .dataframe tbody tr th {\n",
       "        vertical-align: top;\n",
       "    }\n",
       "\n",
       "    .dataframe thead th {\n",
       "        text-align: right;\n",
       "    }\n",
       "</style>\n",
       "<table border=\"1\" class=\"dataframe\">\n",
       "  <thead>\n",
       "    <tr style=\"text-align: right;\">\n",
       "      <th></th>\n",
       "      <th>host_acceptance_rate</th>\n",
       "      <th>days_since_host</th>\n",
       "      <th>host_total_listings_count</th>\n",
       "      <th>latitude</th>\n",
       "      <th>longitude</th>\n",
       "      <th>accommodates</th>\n",
       "      <th>beds</th>\n",
       "      <th>minimum_nights_avg_ntm</th>\n",
       "      <th>num_bathrooms</th>\n",
       "      <th>review_scores_rating</th>\n",
       "      <th>...</th>\n",
       "      <th>reviews_per_month^2</th>\n",
       "      <th>reviews_per_month host_response_time_within an hour</th>\n",
       "      <th>reviews_per_month room_type_Private room</th>\n",
       "      <th>reviews_per_month property_category_Room</th>\n",
       "      <th>host_response_time_within an hour room_type_Private room</th>\n",
       "      <th>host_response_time_within an hour property_category_Room</th>\n",
       "      <th>neighbourhood_cleansed_Other property_category_Room</th>\n",
       "      <th>room_type_Private room^2</th>\n",
       "      <th>room_type_Private room property_category_Room</th>\n",
       "      <th>property_category_Room^2</th>\n",
       "    </tr>\n",
       "  </thead>\n",
       "  <tbody>\n",
       "    <tr>\n",
       "      <th>0</th>\n",
       "      <td>0.95</td>\n",
       "      <td>2241.0</td>\n",
       "      <td>13.0</td>\n",
       "      <td>41.794240</td>\n",
       "      <td>-87.661380</td>\n",
       "      <td>1.0</td>\n",
       "      <td>1.0</td>\n",
       "      <td>32.0</td>\n",
       "      <td>1.0</td>\n",
       "      <td>4.94</td>\n",
       "      <td>...</td>\n",
       "      <td>0.108900</td>\n",
       "      <td>0.330</td>\n",
       "      <td>0.330</td>\n",
       "      <td>0.330</td>\n",
       "      <td>1.0</td>\n",
       "      <td>1.0</td>\n",
       "      <td>1.0</td>\n",
       "      <td>1.0</td>\n",
       "      <td>1.0</td>\n",
       "      <td>1.0</td>\n",
       "    </tr>\n",
       "    <tr>\n",
       "      <th>1</th>\n",
       "      <td>0.97</td>\n",
       "      <td>3444.0</td>\n",
       "      <td>2346.0</td>\n",
       "      <td>41.892749</td>\n",
       "      <td>-87.620711</td>\n",
       "      <td>12.0</td>\n",
       "      <td>3.0</td>\n",
       "      <td>32.0</td>\n",
       "      <td>3.0</td>\n",
       "      <td>4.74</td>\n",
       "      <td>...</td>\n",
       "      <td>1.643524</td>\n",
       "      <td>1.282</td>\n",
       "      <td>1.282</td>\n",
       "      <td>1.282</td>\n",
       "      <td>1.0</td>\n",
       "      <td>1.0</td>\n",
       "      <td>0.0</td>\n",
       "      <td>1.0</td>\n",
       "      <td>1.0</td>\n",
       "      <td>1.0</td>\n",
       "    </tr>\n",
       "    <tr>\n",
       "      <th>2</th>\n",
       "      <td>1.00</td>\n",
       "      <td>1542.0</td>\n",
       "      <td>1.0</td>\n",
       "      <td>41.948160</td>\n",
       "      <td>-87.652309</td>\n",
       "      <td>6.0</td>\n",
       "      <td>3.0</td>\n",
       "      <td>2.0</td>\n",
       "      <td>1.0</td>\n",
       "      <td>4.87</td>\n",
       "      <td>...</td>\n",
       "      <td>7.728400</td>\n",
       "      <td>2.780</td>\n",
       "      <td>0.000</td>\n",
       "      <td>0.000</td>\n",
       "      <td>0.0</td>\n",
       "      <td>0.0</td>\n",
       "      <td>0.0</td>\n",
       "      <td>0.0</td>\n",
       "      <td>0.0</td>\n",
       "      <td>0.0</td>\n",
       "    </tr>\n",
       "    <tr>\n",
       "      <th>3</th>\n",
       "      <td>0.98</td>\n",
       "      <td>3141.0</td>\n",
       "      <td>58.0</td>\n",
       "      <td>41.801030</td>\n",
       "      <td>-87.597160</td>\n",
       "      <td>2.0</td>\n",
       "      <td>1.0</td>\n",
       "      <td>2.0</td>\n",
       "      <td>1.0</td>\n",
       "      <td>4.08</td>\n",
       "      <td>...</td>\n",
       "      <td>13.032100</td>\n",
       "      <td>3.610</td>\n",
       "      <td>0.000</td>\n",
       "      <td>0.000</td>\n",
       "      <td>0.0</td>\n",
       "      <td>0.0</td>\n",
       "      <td>0.0</td>\n",
       "      <td>0.0</td>\n",
       "      <td>0.0</td>\n",
       "      <td>0.0</td>\n",
       "    </tr>\n",
       "    <tr>\n",
       "      <th>4</th>\n",
       "      <td>1.00</td>\n",
       "      <td>1150.0</td>\n",
       "      <td>75.0</td>\n",
       "      <td>41.855770</td>\n",
       "      <td>-87.624130</td>\n",
       "      <td>6.0</td>\n",
       "      <td>3.0</td>\n",
       "      <td>2.0</td>\n",
       "      <td>2.0</td>\n",
       "      <td>4.80</td>\n",
       "      <td>...</td>\n",
       "      <td>10.497600</td>\n",
       "      <td>3.240</td>\n",
       "      <td>0.000</td>\n",
       "      <td>0.000</td>\n",
       "      <td>0.0</td>\n",
       "      <td>0.0</td>\n",
       "      <td>0.0</td>\n",
       "      <td>0.0</td>\n",
       "      <td>0.0</td>\n",
       "      <td>0.0</td>\n",
       "    </tr>\n",
       "    <tr>\n",
       "      <th>...</th>\n",
       "      <td>...</td>\n",
       "      <td>...</td>\n",
       "      <td>...</td>\n",
       "      <td>...</td>\n",
       "      <td>...</td>\n",
       "      <td>...</td>\n",
       "      <td>...</td>\n",
       "      <td>...</td>\n",
       "      <td>...</td>\n",
       "      <td>...</td>\n",
       "      <td>...</td>\n",
       "      <td>...</td>\n",
       "      <td>...</td>\n",
       "      <td>...</td>\n",
       "      <td>...</td>\n",
       "      <td>...</td>\n",
       "      <td>...</td>\n",
       "      <td>...</td>\n",
       "      <td>...</td>\n",
       "      <td>...</td>\n",
       "      <td>...</td>\n",
       "    </tr>\n",
       "    <tr>\n",
       "      <th>4995</th>\n",
       "      <td>0.84</td>\n",
       "      <td>1969.0</td>\n",
       "      <td>2.0</td>\n",
       "      <td>42.012880</td>\n",
       "      <td>-87.672190</td>\n",
       "      <td>2.0</td>\n",
       "      <td>1.0</td>\n",
       "      <td>4.0</td>\n",
       "      <td>1.0</td>\n",
       "      <td>4.98</td>\n",
       "      <td>...</td>\n",
       "      <td>1.742400</td>\n",
       "      <td>0.000</td>\n",
       "      <td>1.320</td>\n",
       "      <td>1.320</td>\n",
       "      <td>0.0</td>\n",
       "      <td>0.0</td>\n",
       "      <td>1.0</td>\n",
       "      <td>1.0</td>\n",
       "      <td>1.0</td>\n",
       "      <td>1.0</td>\n",
       "    </tr>\n",
       "    <tr>\n",
       "      <th>4996</th>\n",
       "      <td>0.89</td>\n",
       "      <td>537.0</td>\n",
       "      <td>9.0</td>\n",
       "      <td>41.946662</td>\n",
       "      <td>-87.648015</td>\n",
       "      <td>2.0</td>\n",
       "      <td>1.0</td>\n",
       "      <td>2.0</td>\n",
       "      <td>1.0</td>\n",
       "      <td>4.71</td>\n",
       "      <td>...</td>\n",
       "      <td>171.872100</td>\n",
       "      <td>13.110</td>\n",
       "      <td>0.000</td>\n",
       "      <td>0.000</td>\n",
       "      <td>0.0</td>\n",
       "      <td>0.0</td>\n",
       "      <td>0.0</td>\n",
       "      <td>0.0</td>\n",
       "      <td>0.0</td>\n",
       "      <td>0.0</td>\n",
       "    </tr>\n",
       "    <tr>\n",
       "      <th>4997</th>\n",
       "      <td>0.97</td>\n",
       "      <td>2499.0</td>\n",
       "      <td>4.0</td>\n",
       "      <td>41.987076</td>\n",
       "      <td>-87.717232</td>\n",
       "      <td>4.0</td>\n",
       "      <td>2.0</td>\n",
       "      <td>3.0</td>\n",
       "      <td>1.0</td>\n",
       "      <td>4.94</td>\n",
       "      <td>...</td>\n",
       "      <td>0.490000</td>\n",
       "      <td>0.700</td>\n",
       "      <td>0.000</td>\n",
       "      <td>0.000</td>\n",
       "      <td>0.0</td>\n",
       "      <td>0.0</td>\n",
       "      <td>0.0</td>\n",
       "      <td>0.0</td>\n",
       "      <td>0.0</td>\n",
       "      <td>0.0</td>\n",
       "    </tr>\n",
       "    <tr>\n",
       "      <th>4998</th>\n",
       "      <td>0.97</td>\n",
       "      <td>2720.0</td>\n",
       "      <td>6438.0</td>\n",
       "      <td>41.937821</td>\n",
       "      <td>-87.650831</td>\n",
       "      <td>4.0</td>\n",
       "      <td>2.0</td>\n",
       "      <td>350.3</td>\n",
       "      <td>1.0</td>\n",
       "      <td>4.73</td>\n",
       "      <td>...</td>\n",
       "      <td>2.064969</td>\n",
       "      <td>1.437</td>\n",
       "      <td>0.000</td>\n",
       "      <td>0.000</td>\n",
       "      <td>0.0</td>\n",
       "      <td>0.0</td>\n",
       "      <td>0.0</td>\n",
       "      <td>0.0</td>\n",
       "      <td>0.0</td>\n",
       "      <td>0.0</td>\n",
       "    </tr>\n",
       "    <tr>\n",
       "      <th>4999</th>\n",
       "      <td>0.87</td>\n",
       "      <td>4735.0</td>\n",
       "      <td>45.0</td>\n",
       "      <td>41.738723</td>\n",
       "      <td>-87.563960</td>\n",
       "      <td>1.0</td>\n",
       "      <td>2.0</td>\n",
       "      <td>32.0</td>\n",
       "      <td>2.0</td>\n",
       "      <td>5.00</td>\n",
       "      <td>...</td>\n",
       "      <td>0.136900</td>\n",
       "      <td>0.000</td>\n",
       "      <td>0.000</td>\n",
       "      <td>0.370</td>\n",
       "      <td>0.0</td>\n",
       "      <td>0.0</td>\n",
       "      <td>1.0</td>\n",
       "      <td>0.0</td>\n",
       "      <td>0.0</td>\n",
       "      <td>1.0</td>\n",
       "    </tr>\n",
       "  </tbody>\n",
       "</table>\n",
       "<p>5000 rows × 300 columns</p>\n",
       "</div>"
      ],
      "text/plain": [
       "      host_acceptance_rate  days_since_host  host_total_listings_count  \\\n",
       "0                     0.95           2241.0                       13.0   \n",
       "1                     0.97           3444.0                     2346.0   \n",
       "2                     1.00           1542.0                        1.0   \n",
       "3                     0.98           3141.0                       58.0   \n",
       "4                     1.00           1150.0                       75.0   \n",
       "...                    ...              ...                        ...   \n",
       "4995                  0.84           1969.0                        2.0   \n",
       "4996                  0.89            537.0                        9.0   \n",
       "4997                  0.97           2499.0                        4.0   \n",
       "4998                  0.97           2720.0                     6438.0   \n",
       "4999                  0.87           4735.0                       45.0   \n",
       "\n",
       "       latitude  longitude  accommodates  beds  minimum_nights_avg_ntm  \\\n",
       "0     41.794240 -87.661380           1.0   1.0                    32.0   \n",
       "1     41.892749 -87.620711          12.0   3.0                    32.0   \n",
       "2     41.948160 -87.652309           6.0   3.0                     2.0   \n",
       "3     41.801030 -87.597160           2.0   1.0                     2.0   \n",
       "4     41.855770 -87.624130           6.0   3.0                     2.0   \n",
       "...         ...        ...           ...   ...                     ...   \n",
       "4995  42.012880 -87.672190           2.0   1.0                     4.0   \n",
       "4996  41.946662 -87.648015           2.0   1.0                     2.0   \n",
       "4997  41.987076 -87.717232           4.0   2.0                     3.0   \n",
       "4998  41.937821 -87.650831           4.0   2.0                   350.3   \n",
       "4999  41.738723 -87.563960           1.0   2.0                    32.0   \n",
       "\n",
       "      num_bathrooms  review_scores_rating  ...  reviews_per_month^2  \\\n",
       "0               1.0                  4.94  ...             0.108900   \n",
       "1               3.0                  4.74  ...             1.643524   \n",
       "2               1.0                  4.87  ...             7.728400   \n",
       "3               1.0                  4.08  ...            13.032100   \n",
       "4               2.0                  4.80  ...            10.497600   \n",
       "...             ...                   ...  ...                  ...   \n",
       "4995            1.0                  4.98  ...             1.742400   \n",
       "4996            1.0                  4.71  ...           171.872100   \n",
       "4997            1.0                  4.94  ...             0.490000   \n",
       "4998            1.0                  4.73  ...             2.064969   \n",
       "4999            2.0                  5.00  ...             0.136900   \n",
       "\n",
       "      reviews_per_month host_response_time_within an hour  \\\n",
       "0                                                 0.330     \n",
       "1                                                 1.282     \n",
       "2                                                 2.780     \n",
       "3                                                 3.610     \n",
       "4                                                 3.240     \n",
       "...                                                 ...     \n",
       "4995                                              0.000     \n",
       "4996                                             13.110     \n",
       "4997                                              0.700     \n",
       "4998                                              1.437     \n",
       "4999                                              0.000     \n",
       "\n",
       "      reviews_per_month room_type_Private room  \\\n",
       "0                                        0.330   \n",
       "1                                        1.282   \n",
       "2                                        0.000   \n",
       "3                                        0.000   \n",
       "4                                        0.000   \n",
       "...                                        ...   \n",
       "4995                                     1.320   \n",
       "4996                                     0.000   \n",
       "4997                                     0.000   \n",
       "4998                                     0.000   \n",
       "4999                                     0.000   \n",
       "\n",
       "      reviews_per_month property_category_Room  \\\n",
       "0                                        0.330   \n",
       "1                                        1.282   \n",
       "2                                        0.000   \n",
       "3                                        0.000   \n",
       "4                                        0.000   \n",
       "...                                        ...   \n",
       "4995                                     1.320   \n",
       "4996                                     0.000   \n",
       "4997                                     0.000   \n",
       "4998                                     0.000   \n",
       "4999                                     0.370   \n",
       "\n",
       "      host_response_time_within an hour room_type_Private room  \\\n",
       "0                                                   1.0          \n",
       "1                                                   1.0          \n",
       "2                                                   0.0          \n",
       "3                                                   0.0          \n",
       "4                                                   0.0          \n",
       "...                                                 ...          \n",
       "4995                                                0.0          \n",
       "4996                                                0.0          \n",
       "4997                                                0.0          \n",
       "4998                                                0.0          \n",
       "4999                                                0.0          \n",
       "\n",
       "      host_response_time_within an hour property_category_Room  \\\n",
       "0                                                   1.0          \n",
       "1                                                   1.0          \n",
       "2                                                   0.0          \n",
       "3                                                   0.0          \n",
       "4                                                   0.0          \n",
       "...                                                 ...          \n",
       "4995                                                0.0          \n",
       "4996                                                0.0          \n",
       "4997                                                0.0          \n",
       "4998                                                0.0          \n",
       "4999                                                0.0          \n",
       "\n",
       "      neighbourhood_cleansed_Other property_category_Room  \\\n",
       "0                                                   1.0     \n",
       "1                                                   0.0     \n",
       "2                                                   0.0     \n",
       "3                                                   0.0     \n",
       "4                                                   0.0     \n",
       "...                                                 ...     \n",
       "4995                                                1.0     \n",
       "4996                                                0.0     \n",
       "4997                                                0.0     \n",
       "4998                                                0.0     \n",
       "4999                                                1.0     \n",
       "\n",
       "      room_type_Private room^2  room_type_Private room property_category_Room  \\\n",
       "0                          1.0                                            1.0   \n",
       "1                          1.0                                            1.0   \n",
       "2                          0.0                                            0.0   \n",
       "3                          0.0                                            0.0   \n",
       "4                          0.0                                            0.0   \n",
       "...                        ...                                            ...   \n",
       "4995                       1.0                                            1.0   \n",
       "4996                       0.0                                            0.0   \n",
       "4997                       0.0                                            0.0   \n",
       "4998                       0.0                                            0.0   \n",
       "4999                       0.0                                            0.0   \n",
       "\n",
       "      property_category_Room^2  \n",
       "0                          1.0  \n",
       "1                          1.0  \n",
       "2                          0.0  \n",
       "3                          0.0  \n",
       "4                          0.0  \n",
       "...                        ...  \n",
       "4995                       1.0  \n",
       "4996                       0.0  \n",
       "4997                       0.0  \n",
       "4998                       0.0  \n",
       "4999                       1.0  \n",
       "\n",
       "[5000 rows x 300 columns]"
      ]
     },
     "execution_count": 59,
     "metadata": {},
     "output_type": "execute_result"
    }
   ],
   "source": [
    "X_train_selectkbest_df"
   ]
  },
  {
   "cell_type": "code",
   "execution_count": 131,
   "id": "ee9b1752",
   "metadata": {},
   "outputs": [
    {
     "name": "stdout",
     "output_type": "stream",
     "text": [
      "Fitting 5 folds for each of 200 candidates, totalling 1000 fits\n"
     ]
    },
    {
     "name": "stderr",
     "output_type": "stream",
     "text": [
      "/Users/kevin/opt/anaconda3/lib/python3.9/site-packages/scipy/__init__.py:155: UserWarning: A NumPy version >=1.18.5 and <1.25.0 is required for this version of SciPy (detected version 1.26.4\n",
      "  warnings.warn(f\"A NumPy version >={np_minversion} and <{np_maxversion}\"\n",
      "/Users/kevin/opt/anaconda3/lib/python3.9/site-packages/scipy/__init__.py:155: UserWarning: A NumPy version >=1.18.5 and <1.25.0 is required for this version of SciPy (detected version 1.26.4\n",
      "  warnings.warn(f\"A NumPy version >={np_minversion} and <{np_maxversion}\"\n",
      "/Users/kevin/opt/anaconda3/lib/python3.9/site-packages/scipy/__init__.py:155: UserWarning: A NumPy version >=1.18.5 and <1.25.0 is required for this version of SciPy (detected version 1.26.4\n",
      "  warnings.warn(f\"A NumPy version >={np_minversion} and <{np_maxversion}\"\n",
      "/Users/kevin/opt/anaconda3/lib/python3.9/site-packages/scipy/__init__.py:155: UserWarning: A NumPy version >=1.18.5 and <1.25.0 is required for this version of SciPy (detected version 1.26.4\n",
      "  warnings.warn(f\"A NumPy version >={np_minversion} and <{np_maxversion}\"\n",
      "/Users/kevin/opt/anaconda3/lib/python3.9/site-packages/scipy/__init__.py:155: UserWarning: A NumPy version >=1.18.5 and <1.25.0 is required for this version of SciPy (detected version 1.26.4\n",
      "  warnings.warn(f\"A NumPy version >={np_minversion} and <{np_maxversion}\"\n",
      "/Users/kevin/opt/anaconda3/lib/python3.9/site-packages/scipy/__init__.py:155: UserWarning: A NumPy version >=1.18.5 and <1.25.0 is required for this version of SciPy (detected version 1.26.4\n",
      "  warnings.warn(f\"A NumPy version >={np_minversion} and <{np_maxversion}\"\n",
      "/Users/kevin/opt/anaconda3/lib/python3.9/site-packages/scipy/__init__.py:155: UserWarning: A NumPy version >=1.18.5 and <1.25.0 is required for this version of SciPy (detected version 1.26.4\n",
      "  warnings.warn(f\"A NumPy version >={np_minversion} and <{np_maxversion}\"\n",
      "/Users/kevin/opt/anaconda3/lib/python3.9/site-packages/scipy/__init__.py:155: UserWarning: A NumPy version >=1.18.5 and <1.25.0 is required for this version of SciPy (detected version 1.26.4\n",
      "  warnings.warn(f\"A NumPy version >={np_minversion} and <{np_maxversion}\"\n"
     ]
    },
    {
     "name": "stdout",
     "output_type": "stream",
     "text": [
      "Optimal parameter values = {'subsample': 0.55, 'reg_lambda': 5, 'num_leaves': 46, 'n_estimators': 1500, 'max_depth': 8, 'learning_rate': 0.03, 'colsample_bylevel': 0.3}\n",
      "Optimal cross validation RMSE =  -0.3637580570124931\n",
      "Time taken =  470  minutes\n"
     ]
    }
   ],
   "source": [
    "#K-fold cross validation to find optimal parameters for CatBoost regressor\n",
    "start_time = time.time()\n",
    "param_grid = {'max_depth': [6,8,10, 12],\n",
    "              'num_leaves': [31, 37, 42, 46],\n",
    "              'learning_rate': [0.01, 0.02, 0.03, 0.05],\n",
    "               'reg_lambda':[2,3,5,7],\n",
    "                'n_estimators':[1500, 1750, 2000, 2250],\n",
    "                'subsample': [0.45, 0.5, 0.55],\n",
    "             'colsample_bylevel': [0.25, 0.3, 0.36, 0.43, 0.5]}\n",
    "\n",
    "cv = KFold(n_splits=5,shuffle=True,random_state=1)\n",
    "optimal_params = RandomizedSearchCV(estimator=CatBoostRegressor(random_state=1, verbose=False, \n",
    "                            grow_policy='Lossguide'),                                                       \n",
    "                             param_distributions = param_grid, n_iter = 200,\n",
    "                             verbose = 1,random_state = 1, scoring='neg_root_mean_squared_error',\n",
    "                             n_jobs=-1,\n",
    "                             cv = cv)\n",
    "optimal_params.fit(X_train_selectkbest_df,y_train)\n",
    "print(\"Optimal parameter values =\", optimal_params.best_params_)\n",
    "print(\"Optimal cross validation RMSE = \",optimal_params.best_score_)\n",
    "print(\"Time taken = \", round((time.time()-start_time)/60), \" minutes\")"
   ]
  },
  {
   "cell_type": "code",
   "execution_count": 132,
   "id": "4b1e2757",
   "metadata": {},
   "outputs": [],
   "source": [
    "catboost_selectkbest_model = CatBoostRegressor(grow_policy='Lossguide', random_state=1, verbose=0, subsample=0.55, reg_lambda=5, num_leaves=46,\n",
    "                                  n_estimators=1500, max_depth=8, learning_rate=0.03, colsample_bylevel=0.3).fit(X_train_selectkbest_df,y_train)"
   ]
  },
  {
   "cell_type": "markdown",
   "id": "9e5af2d8",
   "metadata": {},
   "source": [
    "### CatBoost"
   ]
  },
  {
   "cell_type": "markdown",
   "id": "a99b6303",
   "metadata": {},
   "source": [
    "**First, tune a CatBoost model**"
   ]
  },
  {
   "cell_type": "code",
   "execution_count": 87,
   "id": "7fa426a0",
   "metadata": {},
   "outputs": [],
   "source": [
    "catboost_model = CatBoostRegressor(grow_policy='Lossguide', random_state=1, verbose=0, subsample=0.45, reg_lambda=3, num_leaves=42,\n",
    "                                  n_estimators=2250, max_depth=10, learning_rate=0.02, colsample_bylevel=0.38).fit(X_train_redundant_poly_df,y_train)"
   ]
  },
  {
   "cell_type": "code",
   "execution_count": 148,
   "id": "33331396",
   "metadata": {},
   "outputs": [
    {
     "name": "stdout",
     "output_type": "stream",
     "text": [
      "Num features: 150, RMSE: 0.35409223867115874, Time taken: 150.79 minutes\n"
     ]
    },
    {
     "ename": "CatBoostError",
     "evalue": "Length of label=3750 and length of data=5000 is different.",
     "output_type": "error",
     "traceback": [
      "\u001b[0;31m---------------------------------------------------------------------------\u001b[0m",
      "\u001b[0;31mCatBoostError\u001b[0m                             Traceback (most recent call last)",
      "\u001b[0;32m/var/folders/35/_36mcwyx2kv5hgjlm3qr6sym0000gn/T/ipykernel_19822/4147044150.py\u001b[0m in \u001b[0;36m<module>\u001b[0;34m\u001b[0m\n\u001b[1;32m     22\u001b[0m \u001b[0;34m\u001b[0m\u001b[0m\n\u001b[1;32m     23\u001b[0m     \u001b[0;31m# Perform feature selection\u001b[0m\u001b[0;34m\u001b[0m\u001b[0;34m\u001b[0m\u001b[0m\n\u001b[0;32m---> 24\u001b[0;31m     selected_features = catboost_model.select_features(\n\u001b[0m\u001b[1;32m     25\u001b[0m         \u001b[0mX_train_redundant_poly_df\u001b[0m\u001b[0;34m,\u001b[0m \u001b[0my\u001b[0m\u001b[0;34m=\u001b[0m\u001b[0my_train\u001b[0m\u001b[0;34m,\u001b[0m\u001b[0;34m\u001b[0m\u001b[0;34m\u001b[0m\u001b[0m\n\u001b[1;32m     26\u001b[0m         \u001b[0malgorithm\u001b[0m\u001b[0;34m=\u001b[0m\u001b[0;34m'RecursiveByLossFunctionChange'\u001b[0m\u001b[0;34m,\u001b[0m\u001b[0;34m\u001b[0m\u001b[0;34m\u001b[0m\u001b[0m\n",
      "\u001b[0;32m~/opt/anaconda3/lib/python3.9/site-packages/catboost/core.py\u001b[0m in \u001b[0;36mselect_features\u001b[0;34m(self, X, y, eval_set, features_for_select, num_features_to_select, algorithm, steps, shap_calc_type, train_final_model, verbose, logging_level, plot, plot_file, log_cout, log_cerr, grouping, features_tags_for_select, num_features_tags_to_select)\u001b[0m\n\u001b[1;32m   4412\u001b[0m \u001b[0;34m\u001b[0m\u001b[0m\n\u001b[1;32m   4413\u001b[0m         \u001b[0;32mwith\u001b[0m \u001b[0mlog_fixup\u001b[0m\u001b[0;34m(\u001b[0m\u001b[0mlog_cout\u001b[0m\u001b[0;34m,\u001b[0m \u001b[0mlog_cerr\u001b[0m\u001b[0;34m)\u001b[0m\u001b[0;34m:\u001b[0m\u001b[0;34m\u001b[0m\u001b[0;34m\u001b[0m\u001b[0m\n\u001b[0;32m-> 4414\u001b[0;31m             \u001b[0mtrain_params\u001b[0m \u001b[0;34m=\u001b[0m \u001b[0mself\u001b[0m\u001b[0;34m.\u001b[0m\u001b[0m_prepare_train_params\u001b[0m\u001b[0;34m(\u001b[0m\u001b[0mX\u001b[0m\u001b[0;34m=\u001b[0m\u001b[0mX\u001b[0m\u001b[0;34m,\u001b[0m \u001b[0my\u001b[0m\u001b[0;34m=\u001b[0m\u001b[0my\u001b[0m\u001b[0;34m,\u001b[0m \u001b[0meval_set\u001b[0m\u001b[0;34m=\u001b[0m\u001b[0meval_set\u001b[0m\u001b[0;34m,\u001b[0m \u001b[0mverbose\u001b[0m\u001b[0;34m=\u001b[0m\u001b[0mverbose\u001b[0m\u001b[0;34m,\u001b[0m \u001b[0mlogging_level\u001b[0m\u001b[0;34m=\u001b[0m\u001b[0mlogging_level\u001b[0m\u001b[0;34m)\u001b[0m\u001b[0;34m\u001b[0m\u001b[0;34m\u001b[0m\u001b[0m\n\u001b[0m\u001b[1;32m   4415\u001b[0m             \u001b[0mparams\u001b[0m \u001b[0;34m=\u001b[0m \u001b[0mtrain_params\u001b[0m\u001b[0;34m[\u001b[0m\u001b[0;34m\"params\"\u001b[0m\u001b[0;34m]\u001b[0m\u001b[0;34m\u001b[0m\u001b[0;34m\u001b[0m\u001b[0m\n\u001b[1;32m   4416\u001b[0m \u001b[0;34m\u001b[0m\u001b[0m\n",
      "\u001b[0;32m~/opt/anaconda3/lib/python3.9/site-packages/catboost/core.py\u001b[0m in \u001b[0;36m_prepare_train_params\u001b[0;34m(self, X, y, cat_features, text_features, embedding_features, pairs, sample_weight, group_id, group_weight, subgroup_id, pairs_weight, baseline, use_best_model, eval_set, verbose, logging_level, plot, plot_file, column_description, verbose_eval, metric_period, silent, early_stopping_rounds, save_snapshot, snapshot_file, snapshot_interval, init_model, callbacks)\u001b[0m\n\u001b[1;32m   2259\u001b[0m         \u001b[0membedding_features\u001b[0m \u001b[0;34m=\u001b[0m \u001b[0m_process_feature_indices\u001b[0m\u001b[0;34m(\u001b[0m\u001b[0membedding_features\u001b[0m\u001b[0;34m,\u001b[0m \u001b[0mX\u001b[0m\u001b[0;34m,\u001b[0m \u001b[0mparams\u001b[0m\u001b[0;34m,\u001b[0m \u001b[0;34m'embedding_features'\u001b[0m\u001b[0;34m)\u001b[0m\u001b[0;34m\u001b[0m\u001b[0;34m\u001b[0m\u001b[0m\n\u001b[1;32m   2260\u001b[0m \u001b[0;34m\u001b[0m\u001b[0m\n\u001b[0;32m-> 2261\u001b[0;31m         train_pool = _build_train_pool(X, y, cat_features, text_features, embedding_features, pairs,\n\u001b[0m\u001b[1;32m   2262\u001b[0m                                        \u001b[0msample_weight\u001b[0m\u001b[0;34m,\u001b[0m \u001b[0mgroup_id\u001b[0m\u001b[0;34m,\u001b[0m \u001b[0mgroup_weight\u001b[0m\u001b[0;34m,\u001b[0m \u001b[0msubgroup_id\u001b[0m\u001b[0;34m,\u001b[0m \u001b[0mpairs_weight\u001b[0m\u001b[0;34m,\u001b[0m\u001b[0;34m\u001b[0m\u001b[0;34m\u001b[0m\u001b[0m\n\u001b[1;32m   2263\u001b[0m                                        baseline, column_description)\n",
      "\u001b[0;32m~/opt/anaconda3/lib/python3.9/site-packages/catboost/core.py\u001b[0m in \u001b[0;36m_build_train_pool\u001b[0;34m(X, y, cat_features, text_features, embedding_features, pairs, sample_weight, group_id, group_weight, subgroup_id, pairs_weight, baseline, column_description)\u001b[0m\n\u001b[1;32m   1497\u001b[0m         \u001b[0;32mif\u001b[0m \u001b[0my\u001b[0m \u001b[0;32mis\u001b[0m \u001b[0;32mNone\u001b[0m\u001b[0;34m:\u001b[0m\u001b[0;34m\u001b[0m\u001b[0;34m\u001b[0m\u001b[0m\n\u001b[1;32m   1498\u001b[0m             \u001b[0;32mraise\u001b[0m \u001b[0mCatBoostError\u001b[0m\u001b[0;34m(\u001b[0m\u001b[0;34m\"y has not initialized in fit(): X is not catboost.Pool object, y must be not None in fit().\"\u001b[0m\u001b[0;34m)\u001b[0m\u001b[0;34m\u001b[0m\u001b[0;34m\u001b[0m\u001b[0m\n\u001b[0;32m-> 1499\u001b[0;31m         train_pool = Pool(X, y, cat_features=cat_features, text_features=text_features, embedding_features=embedding_features, pairs=pairs, weight=sample_weight, group_id=group_id,\n\u001b[0m\u001b[1;32m   1500\u001b[0m                           group_weight=group_weight, subgroup_id=subgroup_id, pairs_weight=pairs_weight, baseline=baseline)\n\u001b[1;32m   1501\u001b[0m     \u001b[0;32mreturn\u001b[0m \u001b[0mtrain_pool\u001b[0m\u001b[0;34m\u001b[0m\u001b[0;34m\u001b[0m\u001b[0m\n",
      "\u001b[0;32m~/opt/anaconda3/lib/python3.9/site-packages/catboost/core.py\u001b[0m in \u001b[0;36m__init__\u001b[0;34m(self, data, label, cat_features, text_features, embedding_features, embedding_features_data, column_description, pairs, delimiter, has_header, ignore_csv_quoting, weight, group_id, group_weight, subgroup_id, pairs_weight, baseline, timestamp, feature_names, feature_tags, thread_count, log_cout, log_cerr, data_can_be_none)\u001b[0m\n\u001b[1;32m    842\u001b[0m                         )\n\u001b[1;32m    843\u001b[0m \u001b[0;34m\u001b[0m\u001b[0m\n\u001b[0;32m--> 844\u001b[0;31m                     self._init(data, label, cat_features, text_features, embedding_features, embedding_features_data, pairs, weight,\n\u001b[0m\u001b[1;32m    845\u001b[0m                                group_id, group_weight, subgroup_id, pairs_weight, baseline, timestamp, feature_names, feature_tags, thread_count)\n\u001b[1;32m    846\u001b[0m             \u001b[0;32melif\u001b[0m \u001b[0;32mnot\u001b[0m \u001b[0mdata_can_be_none\u001b[0m\u001b[0;34m:\u001b[0m\u001b[0;34m\u001b[0m\u001b[0;34m\u001b[0m\u001b[0m\n",
      "\u001b[0;32m~/opt/anaconda3/lib/python3.9/site-packages/catboost/core.py\u001b[0m in \u001b[0;36m_init\u001b[0;34m(self, data, label, cat_features, text_features, embedding_features, embedding_features_data, pairs, weight, group_id, group_weight, subgroup_id, pairs_weight, baseline, timestamp, feature_names, feature_tags, thread_count)\u001b[0m\n\u001b[1;32m   1423\u001b[0m             \u001b[0;32mif\u001b[0m \u001b[0mlen\u001b[0m\u001b[0;34m(\u001b[0m\u001b[0mnp\u001b[0m\u001b[0;34m.\u001b[0m\u001b[0mshape\u001b[0m\u001b[0;34m(\u001b[0m\u001b[0mlabel\u001b[0m\u001b[0;34m)\u001b[0m\u001b[0;34m)\u001b[0m \u001b[0;34m==\u001b[0m \u001b[0;36m1\u001b[0m\u001b[0;34m:\u001b[0m\u001b[0;34m\u001b[0m\u001b[0;34m\u001b[0m\u001b[0m\n\u001b[1;32m   1424\u001b[0m                 \u001b[0mlabel\u001b[0m \u001b[0;34m=\u001b[0m \u001b[0mnp\u001b[0m\u001b[0;34m.\u001b[0m\u001b[0mexpand_dims\u001b[0m\u001b[0;34m(\u001b[0m\u001b[0mlabel\u001b[0m\u001b[0;34m,\u001b[0m \u001b[0;36m1\u001b[0m\u001b[0;34m)\u001b[0m\u001b[0;34m\u001b[0m\u001b[0;34m\u001b[0m\u001b[0m\n\u001b[0;32m-> 1425\u001b[0;31m             \u001b[0mself\u001b[0m\u001b[0;34m.\u001b[0m\u001b[0m_check_label_shape\u001b[0m\u001b[0;34m(\u001b[0m\u001b[0mlabel\u001b[0m\u001b[0;34m,\u001b[0m \u001b[0msamples_count\u001b[0m\u001b[0;34m)\u001b[0m\u001b[0;34m\u001b[0m\u001b[0;34m\u001b[0m\u001b[0m\n\u001b[0m\u001b[1;32m   1426\u001b[0m         \u001b[0;32mif\u001b[0m \u001b[0mfeature_names\u001b[0m \u001b[0;32mis\u001b[0m \u001b[0;32mnot\u001b[0m \u001b[0;32mNone\u001b[0m\u001b[0;34m:\u001b[0m\u001b[0;34m\u001b[0m\u001b[0;34m\u001b[0m\u001b[0m\n\u001b[1;32m   1427\u001b[0m             \u001b[0mself\u001b[0m\u001b[0;34m.\u001b[0m\u001b[0m_check_feature_names\u001b[0m\u001b[0;34m(\u001b[0m\u001b[0mfeature_names\u001b[0m\u001b[0;34m,\u001b[0m \u001b[0mfeatures_count\u001b[0m\u001b[0;34m)\u001b[0m\u001b[0;34m\u001b[0m\u001b[0;34m\u001b[0m\u001b[0m\n",
      "\u001b[0;32m~/opt/anaconda3/lib/python3.9/site-packages/catboost/core.py\u001b[0m in \u001b[0;36m_check_label_shape\u001b[0;34m(self, label, samples_count)\u001b[0m\n\u001b[1;32m    963\u001b[0m         \"\"\"\n\u001b[1;32m    964\u001b[0m         \u001b[0;32mif\u001b[0m \u001b[0mlen\u001b[0m\u001b[0;34m(\u001b[0m\u001b[0mlabel\u001b[0m\u001b[0;34m)\u001b[0m \u001b[0;34m!=\u001b[0m \u001b[0msamples_count\u001b[0m\u001b[0;34m:\u001b[0m\u001b[0;34m\u001b[0m\u001b[0;34m\u001b[0m\u001b[0m\n\u001b[0;32m--> 965\u001b[0;31m             \u001b[0;32mraise\u001b[0m \u001b[0mCatBoostError\u001b[0m\u001b[0;34m(\u001b[0m\u001b[0;34m\"Length of label={} and length of data={} is different.\"\u001b[0m\u001b[0;34m.\u001b[0m\u001b[0mformat\u001b[0m\u001b[0;34m(\u001b[0m\u001b[0mlen\u001b[0m\u001b[0;34m(\u001b[0m\u001b[0mlabel\u001b[0m\u001b[0;34m)\u001b[0m\u001b[0;34m,\u001b[0m \u001b[0msamples_count\u001b[0m\u001b[0;34m)\u001b[0m\u001b[0;34m)\u001b[0m\u001b[0;34m\u001b[0m\u001b[0;34m\u001b[0m\u001b[0m\n\u001b[0m\u001b[1;32m    966\u001b[0m \u001b[0;34m\u001b[0m\u001b[0m\n\u001b[1;32m    967\u001b[0m     \u001b[0;32mdef\u001b[0m \u001b[0m_check_baseline_type\u001b[0m\u001b[0;34m(\u001b[0m\u001b[0mself\u001b[0m\u001b[0;34m,\u001b[0m \u001b[0mbaseline\u001b[0m\u001b[0;34m)\u001b[0m\u001b[0;34m:\u001b[0m\u001b[0;34m\u001b[0m\u001b[0;34m\u001b[0m\u001b[0m\n",
      "\u001b[0;31mCatBoostError\u001b[0m: Length of label=3750 and length of data=5000 is different."
     ]
    }
   ],
   "source": [
    "# Assume X_train_redundant_poly_df and y_train are already defined\n",
    "\n",
    "# Define the CatBoost model\n",
    "catboost_model = CatBoostRegressor(\n",
    "    grow_policy='Lossguide', random_state=1, verbose=0, subsample=0.45, \n",
    "    reg_lambda=3, num_leaves=42, n_estimators=2250, max_depth=10, \n",
    "    learning_rate=0.02, colsample_bylevel=0.38\n",
    ")\n",
    "\n",
    "# Range of number of features to select\n",
    "num_features_to_select_range = list(range(150, 501, 50))\n",
    "\n",
    "# Variables to store the best number of features and the corresponding performance\n",
    "best_num_features = None\n",
    "best_rmse = float('inf')\n",
    "best_features = None\n",
    "\n",
    "# Perform feature selection and model training for each value in the range\n",
    "start_time = time.time()\n",
    "\n",
    "for num_features in num_features_to_select_range:\n",
    "    \n",
    "    # Perform feature selection\n",
    "    selected_features = catboost_model.select_features(\n",
    "        X_train_redundant_poly_df, y=y_train,\n",
    "        algorithm='RecursiveByLossFunctionChange',\n",
    "        features_for_select=list(X_train_redundant_poly_df.columns),\n",
    "        num_features_to_select=num_features,\n",
    "        steps=1,\n",
    "        train_final_model=False,\n",
    "        logging_level='Silent'\n",
    "    )\n",
    "    \n",
    "    # Get the selected feature names\n",
    "    selected_feature_names = selected_features['selected_features_names']\n",
    "    \n",
    "    # Train-test split\n",
    "    X_train_selected = X_train_redundant_poly_df[selected_feature_names]\n",
    "    X_train, X_test, y_train, y_test = train_test_split(X_train_selected, y_train, test_size=0.25, random_state=1)\n",
    "    \n",
    "    # Train the model with the selected features\n",
    "    train_pool = Pool(X_train, y_train)\n",
    "    test_pool = Pool(X_test, y_test)\n",
    "    catboost_model.fit(train_pool, eval_set=test_pool, use_best_model=True, early_stopping_rounds=10)\n",
    "    \n",
    "    # Predict and calculate RMSE\n",
    "    y_pred = catboost_model.predict(X_test)\n",
    "    rmse = np.sqrt(mean_squared_error(y_test, y_pred))\n",
    "    \n",
    "    print(f\"Num features: {num_features}, RMSE: {rmse}, Time taken: {np.round((time.time() - start_time) / 60, 2)} minutes\")\n",
    "    \n",
    "    # Update the best number of features and RMSE if current RMSE is better\n",
    "    if rmse < best_rmse:\n",
    "        best_rmse = rmse\n",
    "        best_num_features = num_features\n",
    "        best_features = selected_feature_names\n",
    "\n",
    "print(f\"Best number of features: {best_num_features}, Best RMSE: {best_rmse}\")\n",
    "print(\"Time taken = \", np.round((time.time() - start_time)/60,2), \"minutes\")"
   ]
  },
  {
   "cell_type": "code",
   "execution_count": 163,
   "id": "205af10c",
   "metadata": {},
   "outputs": [
    {
     "name": "stdout",
     "output_type": "stream",
     "text": [
      "Time taken =  74.4 minutes\n"
     ]
    }
   ],
   "source": [
    "start_time = time.time()\n",
    "\n",
    "# Perform feature selection\n",
    "selected_features = catboost_model.select_features(\n",
    "    X_train_redundant_poly_df, y = y_train,\n",
    "    algorithm='RecursiveByLossFunctionChange',\n",
    "    features_for_select=list(X_train_redundant_poly_df.columns),\n",
    "    num_features_to_select=150,  # Number of features to select\n",
    "    steps=1,  # Number of features to remove at each step\n",
    "    train_final_model=False,\n",
    "    logging_level='Silent'\n",
    ")\n",
    "\n",
    "print(\"Time taken = \", np.round((time.time() - start_time)/60,2), \"minutes\")"
   ]
  },
  {
   "cell_type": "code",
   "execution_count": 164,
   "id": "f3327613",
   "metadata": {},
   "outputs": [
    {
     "name": "stdout",
     "output_type": "stream",
     "text": [
      "Selected features: ['latitude', 'longitude', 'accommodates', 'host_response_rate host_total_listings_count', 'host_response_rate latitude', 'host_response_rate longitude', 'host_response_rate accommodates', 'host_response_rate reviews_per_month', 'host_acceptance_rate accommodates', 'host_acceptance_rate beds', 'host_acceptance_rate minimum_nights', 'host_acceptance_rate num_bathrooms', 'host_acceptance_rate availability_30', 'host_acceptance_rate availability_90', 'host_acceptance_rate calculated_host_listings_count', 'host_acceptance_rate reviews_per_month', 'host_acceptance_rate neighbourhood_cleansed_Other', 'host_is_superhost availability_365', 'host_is_superhost review_scores_accuracy', 'host_is_superhost review_scores_cleanliness', 'host_listings_count days_since_host', 'host_listings_count minimum_nights', 'host_listings_count minimum_minimum_nights', 'host_listings_count maximum_minimum_nights', 'host_listings_count maximum_maximum_nights', 'host_listings_count minimum_nights_avg_ntm', 'host_listings_count number_of_reviews_ltm', 'days_since_host host_total_listings_count', 'days_since_host accommodates', 'days_since_host minimum_minimum_nights', 'days_since_host maximum_minimum_nights', 'days_since_host number_of_reviews', 'days_since_host review_scores_location', 'days_since_host calculated_host_listings_count', 'days_since_host reviews_per_month', 'days_since_host neighbourhood_cleansed_Lower West Side', 'host_total_listings_count minimum_nights', 'host_total_listings_count maximum_minimum_nights', 'host_total_listings_count maximum_maximum_nights', 'host_total_listings_count minimum_nights_avg_ntm', 'host_total_listings_count availability_30', 'host_total_listings_count number_of_reviews', 'host_total_listings_count number_of_reviews_ltm', 'host_total_listings_count number_of_reviews_l30d', 'host_total_listings_count reviews_per_month', 'host_has_profile_pic latitude', 'host_has_profile_pic longitude', 'host_has_profile_pic number_of_reviews_ltm', 'host_has_profile_pic review_scores_value', 'host_identity_verified longitude', 'host_identity_verified review_scores_location', 'host_identity_verified calculated_host_listings_count', 'latitude^2', 'latitude longitude', 'latitude accommodates', 'latitude num_verifications', 'latitude beds', 'latitude minimum_nights', 'latitude num_bathrooms', 'latitude has_availability', 'latitude review_scores_communication', 'latitude review_scores_value', 'latitude calculated_host_listings_count_entire_homes', 'latitude host_response_time_within an hour', 'latitude neighbourhood_cleansed_Near North Side', 'latitude neighbourhood_cleansed_Near West Side', 'latitude neighbourhood_cleansed_Other', 'longitude^2', 'longitude accommodates', 'longitude num_verifications', 'longitude beds', 'longitude maximum_nights', 'longitude num_bathrooms', 'longitude has_availability', 'longitude number_of_reviews_l30d', 'longitude review_scores_checkin', 'longitude review_scores_location', 'longitude review_scores_value', 'longitude instant_bookable', 'longitude calculated_host_listings_count', 'longitude host_response_time_within an hour', 'longitude neighbourhood_cleansed_Near West Side', 'longitude room_type_Private room', 'longitude property_category_Room', 'accommodates^2', 'accommodates num_verifications', 'accommodates beds', 'accommodates maximum_nights', 'accommodates num_bathrooms', 'accommodates has_availability', 'accommodates availability_30', 'accommodates availability_60', 'accommodates availability_365', 'accommodates review_scores_rating', 'accommodates review_scores_accuracy', 'accommodates review_scores_cleanliness', 'accommodates review_scores_checkin', 'accommodates review_scores_communication', 'accommodates review_scores_location', 'accommodates review_scores_value', 'num_verifications review_scores_rating', 'num_verifications review_scores_accuracy', 'num_verifications review_scores_cleanliness', 'num_verifications property_category_Room', 'beds num_bathrooms', 'beds number_of_reviews', 'beds review_scores_rating', 'beds review_scores_cleanliness', 'beds review_scores_location', 'beds review_scores_value', 'beds neighbourhood_cleansed_Lake View', 'minimum_nights availability_30', 'minimum_nights number_of_reviews_ltm', 'minimum_nights review_scores_checkin', 'minimum_nights reviews_per_month', 'minimum_minimum_nights number_of_reviews_ltm', 'minimum_minimum_nights calculated_host_listings_count', 'minimum_minimum_nights reviews_per_month', 'minimum_minimum_nights room_type_Private room', 'minimum_minimum_nights property_category_Room', 'maximum_minimum_nights availability_30', 'maximum_minimum_nights number_of_reviews_ltm', 'maximum_minimum_nights reviews_per_month', 'minimum_maximum_nights availability_60', 'minimum_maximum_nights review_scores_location', 'minimum_maximum_nights property_category_Room', 'minimum_nights_avg_ntm availability_60', 'minimum_nights_avg_ntm number_of_reviews_ltm', 'minimum_nights_avg_ntm number_of_reviews_l30d', 'minimum_nights_avg_ntm calculated_host_listings_count_entire_homes', 'minimum_nights_avg_ntm reviews_per_month', 'minimum_nights_avg_ntm property_category_Room', 'num_bathrooms review_scores_accuracy', 'num_bathrooms review_scores_cleanliness', 'num_bathrooms review_scores_checkin', 'num_bathrooms review_scores_location', 'maximum_nights_avg_ntm reviews_per_month', 'availability_30 reviews_per_month', 'availability_90 number_of_reviews_ltm', 'availability_365 neighbourhood_cleansed_Other', 'number_of_reviews_ltm calculated_host_listings_count', 'number_of_reviews_l30d review_scores_communication', 'review_scores_accuracy neighbourhood_cleansed_Other', 'review_scores_cleanliness review_scores_location', 'review_scores_checkin calculated_host_listings_count', 'review_scores_checkin neighbourhood_cleansed_Lake View', 'calculated_host_listings_count reviews_per_month', 'calculated_host_listings_count neighbourhood_cleansed_Other', 'reviews_per_month neighbourhood_cleansed_Near West Side', 'reviews_per_month neighbourhood_cleansed_Other']\n"
     ]
    }
   ],
   "source": [
    "# Get the selected features\n",
    "selected_feature_indices = selected_features['selected_features_names']\n",
    "print(\"Selected features:\", selected_feature_indices)\n",
    "\n",
    "# Create a new DataFrame with the selected features\n",
    "X_train_catboost_selected = X_train_redundant_poly_df[selected_feature_indices]"
   ]
  },
  {
   "cell_type": "code",
   "execution_count": 165,
   "id": "4b7efa29",
   "metadata": {},
   "outputs": [
    {
     "data": {
      "text/html": [
       "<div>\n",
       "<style scoped>\n",
       "    .dataframe tbody tr th:only-of-type {\n",
       "        vertical-align: middle;\n",
       "    }\n",
       "\n",
       "    .dataframe tbody tr th {\n",
       "        vertical-align: top;\n",
       "    }\n",
       "\n",
       "    .dataframe thead th {\n",
       "        text-align: right;\n",
       "    }\n",
       "</style>\n",
       "<table border=\"1\" class=\"dataframe\">\n",
       "  <thead>\n",
       "    <tr style=\"text-align: right;\">\n",
       "      <th></th>\n",
       "      <th>latitude</th>\n",
       "      <th>longitude</th>\n",
       "      <th>accommodates</th>\n",
       "      <th>host_response_rate host_total_listings_count</th>\n",
       "      <th>host_response_rate latitude</th>\n",
       "      <th>host_response_rate longitude</th>\n",
       "      <th>host_response_rate accommodates</th>\n",
       "      <th>host_response_rate reviews_per_month</th>\n",
       "      <th>host_acceptance_rate accommodates</th>\n",
       "      <th>host_acceptance_rate beds</th>\n",
       "      <th>...</th>\n",
       "      <th>number_of_reviews_ltm calculated_host_listings_count</th>\n",
       "      <th>number_of_reviews_l30d review_scores_communication</th>\n",
       "      <th>review_scores_accuracy neighbourhood_cleansed_Other</th>\n",
       "      <th>review_scores_cleanliness review_scores_location</th>\n",
       "      <th>review_scores_checkin calculated_host_listings_count</th>\n",
       "      <th>review_scores_checkin neighbourhood_cleansed_Lake View</th>\n",
       "      <th>calculated_host_listings_count reviews_per_month</th>\n",
       "      <th>calculated_host_listings_count neighbourhood_cleansed_Other</th>\n",
       "      <th>reviews_per_month neighbourhood_cleansed_Near West Side</th>\n",
       "      <th>reviews_per_month neighbourhood_cleansed_Other</th>\n",
       "    </tr>\n",
       "  </thead>\n",
       "  <tbody>\n",
       "    <tr>\n",
       "      <th>0</th>\n",
       "      <td>41.794240</td>\n",
       "      <td>-87.661380</td>\n",
       "      <td>1.0</td>\n",
       "      <td>12.48</td>\n",
       "      <td>40.122470</td>\n",
       "      <td>-84.154925</td>\n",
       "      <td>0.96</td>\n",
       "      <td>0.3168</td>\n",
       "      <td>0.95</td>\n",
       "      <td>0.95</td>\n",
       "      <td>...</td>\n",
       "      <td>0.0</td>\n",
       "      <td>0.00</td>\n",
       "      <td>5.00</td>\n",
       "      <td>20.929200</td>\n",
       "      <td>45.000</td>\n",
       "      <td>0.000</td>\n",
       "      <td>2.970</td>\n",
       "      <td>9.0</td>\n",
       "      <td>0.0</td>\n",
       "      <td>0.33</td>\n",
       "    </tr>\n",
       "    <tr>\n",
       "      <th>1</th>\n",
       "      <td>41.892749</td>\n",
       "      <td>-87.620711</td>\n",
       "      <td>12.0</td>\n",
       "      <td>2346.00</td>\n",
       "      <td>41.892749</td>\n",
       "      <td>-87.620711</td>\n",
       "      <td>12.00</td>\n",
       "      <td>1.2820</td>\n",
       "      <td>11.64</td>\n",
       "      <td>2.91</td>\n",
       "      <td>...</td>\n",
       "      <td>0.0</td>\n",
       "      <td>0.00</td>\n",
       "      <td>0.00</td>\n",
       "      <td>22.349166</td>\n",
       "      <td>280.546</td>\n",
       "      <td>0.000</td>\n",
       "      <td>74.356</td>\n",
       "      <td>0.0</td>\n",
       "      <td>0.0</td>\n",
       "      <td>0.00</td>\n",
       "    </tr>\n",
       "    <tr>\n",
       "      <th>2</th>\n",
       "      <td>41.948160</td>\n",
       "      <td>-87.652309</td>\n",
       "      <td>6.0</td>\n",
       "      <td>1.00</td>\n",
       "      <td>41.948160</td>\n",
       "      <td>-87.652309</td>\n",
       "      <td>6.00</td>\n",
       "      <td>2.7800</td>\n",
       "      <td>6.00</td>\n",
       "      <td>3.00</td>\n",
       "      <td>...</td>\n",
       "      <td>14.0</td>\n",
       "      <td>5.00</td>\n",
       "      <td>0.00</td>\n",
       "      <td>24.650000</td>\n",
       "      <td>5.000</td>\n",
       "      <td>5.000</td>\n",
       "      <td>2.780</td>\n",
       "      <td>0.0</td>\n",
       "      <td>0.0</td>\n",
       "      <td>0.00</td>\n",
       "    </tr>\n",
       "    <tr>\n",
       "      <th>3</th>\n",
       "      <td>41.801030</td>\n",
       "      <td>-87.597160</td>\n",
       "      <td>2.0</td>\n",
       "      <td>58.00</td>\n",
       "      <td>41.801030</td>\n",
       "      <td>-87.597160</td>\n",
       "      <td>2.00</td>\n",
       "      <td>3.6100</td>\n",
       "      <td>1.96</td>\n",
       "      <td>0.98</td>\n",
       "      <td>...</td>\n",
       "      <td>715.0</td>\n",
       "      <td>12.69</td>\n",
       "      <td>4.08</td>\n",
       "      <td>18.160000</td>\n",
       "      <td>240.900</td>\n",
       "      <td>0.000</td>\n",
       "      <td>198.550</td>\n",
       "      <td>55.0</td>\n",
       "      <td>0.0</td>\n",
       "      <td>3.61</td>\n",
       "    </tr>\n",
       "    <tr>\n",
       "      <th>4</th>\n",
       "      <td>41.855770</td>\n",
       "      <td>-87.624130</td>\n",
       "      <td>6.0</td>\n",
       "      <td>75.00</td>\n",
       "      <td>41.855770</td>\n",
       "      <td>-87.624130</td>\n",
       "      <td>6.00</td>\n",
       "      <td>3.2400</td>\n",
       "      <td>6.00</td>\n",
       "      <td>3.00</td>\n",
       "      <td>...</td>\n",
       "      <td>3108.0</td>\n",
       "      <td>14.55</td>\n",
       "      <td>0.00</td>\n",
       "      <td>22.515000</td>\n",
       "      <td>357.420</td>\n",
       "      <td>0.000</td>\n",
       "      <td>239.760</td>\n",
       "      <td>0.0</td>\n",
       "      <td>0.0</td>\n",
       "      <td>0.00</td>\n",
       "    </tr>\n",
       "    <tr>\n",
       "      <th>...</th>\n",
       "      <td>...</td>\n",
       "      <td>...</td>\n",
       "      <td>...</td>\n",
       "      <td>...</td>\n",
       "      <td>...</td>\n",
       "      <td>...</td>\n",
       "      <td>...</td>\n",
       "      <td>...</td>\n",
       "      <td>...</td>\n",
       "      <td>...</td>\n",
       "      <td>...</td>\n",
       "      <td>...</td>\n",
       "      <td>...</td>\n",
       "      <td>...</td>\n",
       "      <td>...</td>\n",
       "      <td>...</td>\n",
       "      <td>...</td>\n",
       "      <td>...</td>\n",
       "      <td>...</td>\n",
       "      <td>...</td>\n",
       "      <td>...</td>\n",
       "    </tr>\n",
       "    <tr>\n",
       "      <th>4995</th>\n",
       "      <td>42.012880</td>\n",
       "      <td>-87.672190</td>\n",
       "      <td>2.0</td>\n",
       "      <td>1.76</td>\n",
       "      <td>36.971334</td>\n",
       "      <td>-77.151527</td>\n",
       "      <td>1.76</td>\n",
       "      <td>1.1616</td>\n",
       "      <td>1.68</td>\n",
       "      <td>0.84</td>\n",
       "      <td>...</td>\n",
       "      <td>22.0</td>\n",
       "      <td>0.00</td>\n",
       "      <td>4.98</td>\n",
       "      <td>24.850200</td>\n",
       "      <td>10.000</td>\n",
       "      <td>0.000</td>\n",
       "      <td>2.640</td>\n",
       "      <td>2.0</td>\n",
       "      <td>0.0</td>\n",
       "      <td>1.32</td>\n",
       "    </tr>\n",
       "    <tr>\n",
       "      <th>4996</th>\n",
       "      <td>41.946662</td>\n",
       "      <td>-87.648015</td>\n",
       "      <td>2.0</td>\n",
       "      <td>9.00</td>\n",
       "      <td>41.946662</td>\n",
       "      <td>-87.648015</td>\n",
       "      <td>2.00</td>\n",
       "      <td>13.1100</td>\n",
       "      <td>1.78</td>\n",
       "      <td>0.89</td>\n",
       "      <td>...</td>\n",
       "      <td>472.0</td>\n",
       "      <td>88.20</td>\n",
       "      <td>0.00</td>\n",
       "      <td>23.953800</td>\n",
       "      <td>38.000</td>\n",
       "      <td>4.750</td>\n",
       "      <td>104.880</td>\n",
       "      <td>0.0</td>\n",
       "      <td>0.0</td>\n",
       "      <td>0.00</td>\n",
       "    </tr>\n",
       "    <tr>\n",
       "      <th>4997</th>\n",
       "      <td>41.987076</td>\n",
       "      <td>-87.717232</td>\n",
       "      <td>4.0</td>\n",
       "      <td>4.00</td>\n",
       "      <td>41.987076</td>\n",
       "      <td>-87.717232</td>\n",
       "      <td>4.00</td>\n",
       "      <td>0.7000</td>\n",
       "      <td>3.88</td>\n",
       "      <td>1.94</td>\n",
       "      <td>...</td>\n",
       "      <td>30.0</td>\n",
       "      <td>10.00</td>\n",
       "      <td>4.97</td>\n",
       "      <td>24.700900</td>\n",
       "      <td>14.820</td>\n",
       "      <td>0.000</td>\n",
       "      <td>2.100</td>\n",
       "      <td>3.0</td>\n",
       "      <td>0.0</td>\n",
       "      <td>0.70</td>\n",
       "    </tr>\n",
       "    <tr>\n",
       "      <th>4998</th>\n",
       "      <td>41.937821</td>\n",
       "      <td>-87.650831</td>\n",
       "      <td>4.0</td>\n",
       "      <td>6438.00</td>\n",
       "      <td>41.937821</td>\n",
       "      <td>-87.650831</td>\n",
       "      <td>4.00</td>\n",
       "      <td>1.4370</td>\n",
       "      <td>3.88</td>\n",
       "      <td>1.94</td>\n",
       "      <td>...</td>\n",
       "      <td>0.0</td>\n",
       "      <td>0.00</td>\n",
       "      <td>0.00</td>\n",
       "      <td>22.634595</td>\n",
       "      <td>3112.763</td>\n",
       "      <td>4.841</td>\n",
       "      <td>923.991</td>\n",
       "      <td>0.0</td>\n",
       "      <td>0.0</td>\n",
       "      <td>0.00</td>\n",
       "    </tr>\n",
       "    <tr>\n",
       "      <th>4999</th>\n",
       "      <td>41.738723</td>\n",
       "      <td>-87.563960</td>\n",
       "      <td>1.0</td>\n",
       "      <td>45.00</td>\n",
       "      <td>41.738723</td>\n",
       "      <td>-87.563960</td>\n",
       "      <td>1.00</td>\n",
       "      <td>0.3700</td>\n",
       "      <td>0.87</td>\n",
       "      <td>1.74</td>\n",
       "      <td>...</td>\n",
       "      <td>22.0</td>\n",
       "      <td>0.00</td>\n",
       "      <td>5.00</td>\n",
       "      <td>25.000000</td>\n",
       "      <td>110.000</td>\n",
       "      <td>0.000</td>\n",
       "      <td>8.140</td>\n",
       "      <td>22.0</td>\n",
       "      <td>0.0</td>\n",
       "      <td>0.37</td>\n",
       "    </tr>\n",
       "  </tbody>\n",
       "</table>\n",
       "<p>5000 rows × 150 columns</p>\n",
       "</div>"
      ],
      "text/plain": [
       "       latitude  longitude  accommodates  \\\n",
       "0     41.794240 -87.661380           1.0   \n",
       "1     41.892749 -87.620711          12.0   \n",
       "2     41.948160 -87.652309           6.0   \n",
       "3     41.801030 -87.597160           2.0   \n",
       "4     41.855770 -87.624130           6.0   \n",
       "...         ...        ...           ...   \n",
       "4995  42.012880 -87.672190           2.0   \n",
       "4996  41.946662 -87.648015           2.0   \n",
       "4997  41.987076 -87.717232           4.0   \n",
       "4998  41.937821 -87.650831           4.0   \n",
       "4999  41.738723 -87.563960           1.0   \n",
       "\n",
       "      host_response_rate host_total_listings_count  \\\n",
       "0                                            12.48   \n",
       "1                                          2346.00   \n",
       "2                                             1.00   \n",
       "3                                            58.00   \n",
       "4                                            75.00   \n",
       "...                                            ...   \n",
       "4995                                          1.76   \n",
       "4996                                          9.00   \n",
       "4997                                          4.00   \n",
       "4998                                       6438.00   \n",
       "4999                                         45.00   \n",
       "\n",
       "      host_response_rate latitude  host_response_rate longitude  \\\n",
       "0                       40.122470                    -84.154925   \n",
       "1                       41.892749                    -87.620711   \n",
       "2                       41.948160                    -87.652309   \n",
       "3                       41.801030                    -87.597160   \n",
       "4                       41.855770                    -87.624130   \n",
       "...                           ...                           ...   \n",
       "4995                    36.971334                    -77.151527   \n",
       "4996                    41.946662                    -87.648015   \n",
       "4997                    41.987076                    -87.717232   \n",
       "4998                    41.937821                    -87.650831   \n",
       "4999                    41.738723                    -87.563960   \n",
       "\n",
       "      host_response_rate accommodates  host_response_rate reviews_per_month  \\\n",
       "0                                0.96                                0.3168   \n",
       "1                               12.00                                1.2820   \n",
       "2                                6.00                                2.7800   \n",
       "3                                2.00                                3.6100   \n",
       "4                                6.00                                3.2400   \n",
       "...                               ...                                   ...   \n",
       "4995                             1.76                                1.1616   \n",
       "4996                             2.00                               13.1100   \n",
       "4997                             4.00                                0.7000   \n",
       "4998                             4.00                                1.4370   \n",
       "4999                             1.00                                0.3700   \n",
       "\n",
       "      host_acceptance_rate accommodates  host_acceptance_rate beds  ...  \\\n",
       "0                                  0.95                       0.95  ...   \n",
       "1                                 11.64                       2.91  ...   \n",
       "2                                  6.00                       3.00  ...   \n",
       "3                                  1.96                       0.98  ...   \n",
       "4                                  6.00                       3.00  ...   \n",
       "...                                 ...                        ...  ...   \n",
       "4995                               1.68                       0.84  ...   \n",
       "4996                               1.78                       0.89  ...   \n",
       "4997                               3.88                       1.94  ...   \n",
       "4998                               3.88                       1.94  ...   \n",
       "4999                               0.87                       1.74  ...   \n",
       "\n",
       "      number_of_reviews_ltm calculated_host_listings_count  \\\n",
       "0                                                   0.0      \n",
       "1                                                   0.0      \n",
       "2                                                  14.0      \n",
       "3                                                 715.0      \n",
       "4                                                3108.0      \n",
       "...                                                 ...      \n",
       "4995                                               22.0      \n",
       "4996                                              472.0      \n",
       "4997                                               30.0      \n",
       "4998                                                0.0      \n",
       "4999                                               22.0      \n",
       "\n",
       "      number_of_reviews_l30d review_scores_communication  \\\n",
       "0                                                  0.00    \n",
       "1                                                  0.00    \n",
       "2                                                  5.00    \n",
       "3                                                 12.69    \n",
       "4                                                 14.55    \n",
       "...                                                 ...    \n",
       "4995                                               0.00    \n",
       "4996                                              88.20    \n",
       "4997                                              10.00    \n",
       "4998                                               0.00    \n",
       "4999                                               0.00    \n",
       "\n",
       "      review_scores_accuracy neighbourhood_cleansed_Other  \\\n",
       "0                                                  5.00     \n",
       "1                                                  0.00     \n",
       "2                                                  0.00     \n",
       "3                                                  4.08     \n",
       "4                                                  0.00     \n",
       "...                                                 ...     \n",
       "4995                                               4.98     \n",
       "4996                                               0.00     \n",
       "4997                                               4.97     \n",
       "4998                                               0.00     \n",
       "4999                                               5.00     \n",
       "\n",
       "      review_scores_cleanliness review_scores_location  \\\n",
       "0                                            20.929200   \n",
       "1                                            22.349166   \n",
       "2                                            24.650000   \n",
       "3                                            18.160000   \n",
       "4                                            22.515000   \n",
       "...                                                ...   \n",
       "4995                                         24.850200   \n",
       "4996                                         23.953800   \n",
       "4997                                         24.700900   \n",
       "4998                                         22.634595   \n",
       "4999                                         25.000000   \n",
       "\n",
       "      review_scores_checkin calculated_host_listings_count  \\\n",
       "0                                                45.000      \n",
       "1                                               280.546      \n",
       "2                                                 5.000      \n",
       "3                                               240.900      \n",
       "4                                               357.420      \n",
       "...                                                 ...      \n",
       "4995                                             10.000      \n",
       "4996                                             38.000      \n",
       "4997                                             14.820      \n",
       "4998                                           3112.763      \n",
       "4999                                            110.000      \n",
       "\n",
       "      review_scores_checkin neighbourhood_cleansed_Lake View  \\\n",
       "0                                                 0.000        \n",
       "1                                                 0.000        \n",
       "2                                                 5.000        \n",
       "3                                                 0.000        \n",
       "4                                                 0.000        \n",
       "...                                                 ...        \n",
       "4995                                              0.000        \n",
       "4996                                              4.750        \n",
       "4997                                              0.000        \n",
       "4998                                              4.841        \n",
       "4999                                              0.000        \n",
       "\n",
       "      calculated_host_listings_count reviews_per_month  \\\n",
       "0                                                2.970   \n",
       "1                                               74.356   \n",
       "2                                                2.780   \n",
       "3                                              198.550   \n",
       "4                                              239.760   \n",
       "...                                                ...   \n",
       "4995                                             2.640   \n",
       "4996                                           104.880   \n",
       "4997                                             2.100   \n",
       "4998                                           923.991   \n",
       "4999                                             8.140   \n",
       "\n",
       "      calculated_host_listings_count neighbourhood_cleansed_Other  \\\n",
       "0                                                   9.0             \n",
       "1                                                   0.0             \n",
       "2                                                   0.0             \n",
       "3                                                  55.0             \n",
       "4                                                   0.0             \n",
       "...                                                 ...             \n",
       "4995                                                2.0             \n",
       "4996                                                0.0             \n",
       "4997                                                3.0             \n",
       "4998                                                0.0             \n",
       "4999                                               22.0             \n",
       "\n",
       "      reviews_per_month neighbourhood_cleansed_Near West Side  \\\n",
       "0                                                   0.0         \n",
       "1                                                   0.0         \n",
       "2                                                   0.0         \n",
       "3                                                   0.0         \n",
       "4                                                   0.0         \n",
       "...                                                 ...         \n",
       "4995                                                0.0         \n",
       "4996                                                0.0         \n",
       "4997                                                0.0         \n",
       "4998                                                0.0         \n",
       "4999                                                0.0         \n",
       "\n",
       "      reviews_per_month neighbourhood_cleansed_Other  \n",
       "0                                               0.33  \n",
       "1                                               0.00  \n",
       "2                                               0.00  \n",
       "3                                               3.61  \n",
       "4                                               0.00  \n",
       "...                                              ...  \n",
       "4995                                            1.32  \n",
       "4996                                            0.00  \n",
       "4997                                            0.70  \n",
       "4998                                            0.00  \n",
       "4999                                            0.37  \n",
       "\n",
       "[5000 rows x 150 columns]"
      ]
     },
     "execution_count": 165,
     "metadata": {},
     "output_type": "execute_result"
    }
   ],
   "source": [
    "X_train_catboost_selected"
   ]
  },
  {
   "cell_type": "code",
   "execution_count": 117,
   "id": "81d6c4ae",
   "metadata": {},
   "outputs": [],
   "source": [
    "def build_model(df, target):\n",
    "    \"\"\"\n",
    "    Given the dataframe and target, build and return the model\n",
    "    \"\"\"\n",
    "    # Set up target\n",
    "    y = target\n",
    "    # Set up train-test split\n",
    "    X = df\n",
    "    X_train, X_test, y_train, y_test = train_test_split(X, y, test_size=.25, random_state=1)\n",
    "    # Identify the categorical features\n",
    "    #categorical_features = X_train.select_dtypes(exclude=[np.number])\n",
    "    categorical_features = X_train.select_dtypes(exclude=[np.number]).columns.tolist()\n",
    "    # Create training and test pools for catboost\n",
    "    train_pool = Pool(X_train, y_train, categorical_features)\n",
    "    test_pool = Pool(X_test, y_test, categorical_features)\n",
    "    # Fit the model and calculate RMSE\n",
    "    model = CatBoostRegressor(grow_policy='Lossguide', random_state=1, verbose=0, subsample=0.45, reg_lambda=3, num_leaves=42,\n",
    "                                  n_estimators=2250, max_depth=10, learning_rate=0.02, colsample_bylevel=0.38)\n",
    "    model.fit(X_train, y_train, eval_set=test_pool, cat_features=categorical_features, use_best_model=True, early_stopping_rounds=10)\n",
    "    rmse = np.sqrt(mean_squared_error(y_test, model.predict(X_test)))\n",
    "    return rmse, model, X_test"
   ]
  },
  {
   "cell_type": "code",
   "execution_count": 118,
   "id": "3e71c0cc",
   "metadata": {},
   "outputs": [],
   "source": [
    "def get_dropped_feature(model, X_test):\n",
    "    explainer = shap.Explainer(model)\n",
    "    shap_values = explainer(X_test)\n",
    "    feature_importance = shap_values.abs.mean(0).values\n",
    "    importance_df = pd.DataFrame({'features': X_test.columns,\n",
    "                                  'importance': feature_importance})\n",
    "    importance_df.sort_values(by='importance', ascending=False, inplace=True)\n",
    "    return importance_df['features'].iloc[-1]   "
   ]
  },
  {
   "cell_type": "code",
   "execution_count": 119,
   "id": "0183bffd",
   "metadata": {},
   "outputs": [],
   "source": [
    "def backward_selection(df, target, max_features=None):\n",
    "    \"\"\"\n",
    "    This function uses the SHAP importance from a catboost model\n",
    "    to incrementally remove features from the training set until the RMSE no longer improves.\n",
    "    This function returns the dataframe with the features that give the best RMSE.\n",
    "    Return at most max_features.\n",
    "    \"\"\"\n",
    "    # get baseline RMSE\n",
    "    select_df = df.copy()\n",
    "    total_features = df.shape[1]\n",
    "    rmse, model, X_test = build_model(select_df, target)\n",
    "    print(f\"{rmse} with {select_df.shape[1]}\")\n",
    "    last_rmse = rmse\n",
    "    \n",
    "    # Drop least important feature and recalculate model peformance\n",
    "    if max_features is None:\n",
    "        max_features = total_features-1\n",
    "        \n",
    "    for num_features in range(total_features-1, 1, -1):\n",
    "        # Trim features\n",
    "        dropped_feature = get_dropped_feature(model, X_test)\n",
    "        tmp_df = select_df.drop(columns=[dropped_feature])\n",
    "\n",
    "        # Rerun modeling\n",
    "        rmse, model, X_test = build_model(tmp_df, target)\n",
    "        print(f\"{rmse} with {tmp_df.shape[1]}\")\n",
    "        if (num_features < max_features) and (rmse > last_rmse):\n",
    "            # RMSE increased, return last dataframe\n",
    "            return select_df\n",
    "        else:\n",
    "            # RMSE improved, continue dropping features\n",
    "            last_rmse = rmse\n",
    "            select_df = tmp_df\n",
    "    return select_df"
   ]
  },
  {
   "cell_type": "code",
   "execution_count": 120,
   "id": "d2afeff4",
   "metadata": {
    "scrolled": true
   },
   "outputs": [
    {
     "name": "stdout",
     "output_type": "stream",
     "text": [
      "0.3583729875107813 with 2144\n"
     ]
    },
    {
     "ename": "NameError",
     "evalue": "name 'shap' is not defined",
     "output_type": "error",
     "traceback": [
      "\u001b[0;31m---------------------------------------------------------------------------\u001b[0m",
      "\u001b[0;31mNameError\u001b[0m                                 Traceback (most recent call last)",
      "\u001b[0;32m/var/folders/35/_36mcwyx2kv5hgjlm3qr6sym0000gn/T/ipykernel_19822/4160501201.py\u001b[0m in \u001b[0;36m<module>\u001b[0;34m\u001b[0m\n\u001b[1;32m      1\u001b[0m \u001b[0mstart_time\u001b[0m \u001b[0;34m=\u001b[0m \u001b[0mtime\u001b[0m\u001b[0;34m.\u001b[0m\u001b[0mtime\u001b[0m\u001b[0;34m(\u001b[0m\u001b[0;34m)\u001b[0m\u001b[0;34m\u001b[0m\u001b[0;34m\u001b[0m\u001b[0m\n\u001b[0;32m----> 2\u001b[0;31m \u001b[0mreduced_df\u001b[0m \u001b[0;34m=\u001b[0m \u001b[0mbackward_selection\u001b[0m\u001b[0;34m(\u001b[0m\u001b[0mX_train_redundant_poly_df\u001b[0m\u001b[0;34m,\u001b[0m \u001b[0my_train\u001b[0m\u001b[0;34m,\u001b[0m \u001b[0mmax_features\u001b[0m\u001b[0;34m=\u001b[0m\u001b[0;36m350\u001b[0m\u001b[0;34m)\u001b[0m\u001b[0;34m\u001b[0m\u001b[0;34m\u001b[0m\u001b[0m\n\u001b[0m\u001b[1;32m      3\u001b[0m \u001b[0mreduced_df\u001b[0m\u001b[0;34m.\u001b[0m\u001b[0mshape\u001b[0m\u001b[0;34m[\u001b[0m\u001b[0;36m1\u001b[0m\u001b[0;34m]\u001b[0m\u001b[0;34m\u001b[0m\u001b[0;34m\u001b[0m\u001b[0m\n\u001b[1;32m      4\u001b[0m \u001b[0mprint\u001b[0m\u001b[0;34m(\u001b[0m\u001b[0;34m\"Time taken = \"\u001b[0m\u001b[0;34m,\u001b[0m \u001b[0mnp\u001b[0m\u001b[0;34m.\u001b[0m\u001b[0mround\u001b[0m\u001b[0;34m(\u001b[0m\u001b[0;34m(\u001b[0m\u001b[0mtime\u001b[0m\u001b[0;34m.\u001b[0m\u001b[0mtime\u001b[0m\u001b[0;34m(\u001b[0m\u001b[0;34m)\u001b[0m \u001b[0;34m-\u001b[0m \u001b[0mstart_time\u001b[0m\u001b[0;34m)\u001b[0m\u001b[0;34m/\u001b[0m\u001b[0;36m60\u001b[0m\u001b[0;34m,\u001b[0m\u001b[0;36m2\u001b[0m\u001b[0;34m)\u001b[0m\u001b[0;34m,\u001b[0m \u001b[0;34m\"minutes\"\u001b[0m\u001b[0;34m)\u001b[0m\u001b[0;34m\u001b[0m\u001b[0;34m\u001b[0m\u001b[0m\n",
      "\u001b[0;32m/var/folders/35/_36mcwyx2kv5hgjlm3qr6sym0000gn/T/ipykernel_19822/785800956.py\u001b[0m in \u001b[0;36mbackward_selection\u001b[0;34m(df, target, max_features)\u001b[0m\n\u001b[1;32m     19\u001b[0m     \u001b[0;32mfor\u001b[0m \u001b[0mnum_features\u001b[0m \u001b[0;32min\u001b[0m \u001b[0mrange\u001b[0m\u001b[0;34m(\u001b[0m\u001b[0mtotal_features\u001b[0m\u001b[0;34m-\u001b[0m\u001b[0;36m1\u001b[0m\u001b[0;34m,\u001b[0m \u001b[0;36m1\u001b[0m\u001b[0;34m,\u001b[0m \u001b[0;34m-\u001b[0m\u001b[0;36m1\u001b[0m\u001b[0;34m)\u001b[0m\u001b[0;34m:\u001b[0m\u001b[0;34m\u001b[0m\u001b[0;34m\u001b[0m\u001b[0m\n\u001b[1;32m     20\u001b[0m         \u001b[0;31m# Trim features\u001b[0m\u001b[0;34m\u001b[0m\u001b[0;34m\u001b[0m\u001b[0m\n\u001b[0;32m---> 21\u001b[0;31m         \u001b[0mdropped_feature\u001b[0m \u001b[0;34m=\u001b[0m \u001b[0mget_dropped_feature\u001b[0m\u001b[0;34m(\u001b[0m\u001b[0mmodel\u001b[0m\u001b[0;34m,\u001b[0m \u001b[0mX_test\u001b[0m\u001b[0;34m)\u001b[0m\u001b[0;34m\u001b[0m\u001b[0;34m\u001b[0m\u001b[0m\n\u001b[0m\u001b[1;32m     22\u001b[0m         \u001b[0mtmp_df\u001b[0m \u001b[0;34m=\u001b[0m \u001b[0mselect_df\u001b[0m\u001b[0;34m.\u001b[0m\u001b[0mdrop\u001b[0m\u001b[0;34m(\u001b[0m\u001b[0mcolumns\u001b[0m\u001b[0;34m=\u001b[0m\u001b[0;34m[\u001b[0m\u001b[0mdropped_feature\u001b[0m\u001b[0;34m]\u001b[0m\u001b[0;34m)\u001b[0m\u001b[0;34m\u001b[0m\u001b[0;34m\u001b[0m\u001b[0m\n\u001b[1;32m     23\u001b[0m \u001b[0;34m\u001b[0m\u001b[0m\n",
      "\u001b[0;32m/var/folders/35/_36mcwyx2kv5hgjlm3qr6sym0000gn/T/ipykernel_19822/2736872703.py\u001b[0m in \u001b[0;36mget_dropped_feature\u001b[0;34m(model, X_test)\u001b[0m\n\u001b[1;32m      1\u001b[0m \u001b[0;32mdef\u001b[0m \u001b[0mget_dropped_feature\u001b[0m\u001b[0;34m(\u001b[0m\u001b[0mmodel\u001b[0m\u001b[0;34m,\u001b[0m \u001b[0mX_test\u001b[0m\u001b[0;34m)\u001b[0m\u001b[0;34m:\u001b[0m\u001b[0;34m\u001b[0m\u001b[0;34m\u001b[0m\u001b[0m\n\u001b[0;32m----> 2\u001b[0;31m     \u001b[0mexplainer\u001b[0m \u001b[0;34m=\u001b[0m \u001b[0mshap\u001b[0m\u001b[0;34m.\u001b[0m\u001b[0mExplainer\u001b[0m\u001b[0;34m(\u001b[0m\u001b[0mmodel\u001b[0m\u001b[0;34m)\u001b[0m\u001b[0;34m\u001b[0m\u001b[0;34m\u001b[0m\u001b[0m\n\u001b[0m\u001b[1;32m      3\u001b[0m     \u001b[0mshap_values\u001b[0m \u001b[0;34m=\u001b[0m \u001b[0mexplainer\u001b[0m\u001b[0;34m(\u001b[0m\u001b[0mX_test\u001b[0m\u001b[0;34m)\u001b[0m\u001b[0;34m\u001b[0m\u001b[0;34m\u001b[0m\u001b[0m\n\u001b[1;32m      4\u001b[0m     \u001b[0mfeature_importance\u001b[0m \u001b[0;34m=\u001b[0m \u001b[0mshap_values\u001b[0m\u001b[0;34m.\u001b[0m\u001b[0mabs\u001b[0m\u001b[0;34m.\u001b[0m\u001b[0mmean\u001b[0m\u001b[0;34m(\u001b[0m\u001b[0;36m0\u001b[0m\u001b[0;34m)\u001b[0m\u001b[0;34m.\u001b[0m\u001b[0mvalues\u001b[0m\u001b[0;34m\u001b[0m\u001b[0;34m\u001b[0m\u001b[0m\n\u001b[1;32m      5\u001b[0m     importance_df = pd.DataFrame({'features': X_test.columns,\n",
      "\u001b[0;31mNameError\u001b[0m: name 'shap' is not defined"
     ]
    }
   ],
   "source": [
    "start_time = time.time()\n",
    "reduced_df = backward_selection(X_train_redundant_poly_df, y_train, max_features=350)\n",
    "reduced_df.shape[1]\n",
    "print(\"Time taken = \", np.round((time.time() - start_time)/60,2), \"minutes\")"
   ]
  },
  {
   "cell_type": "markdown",
   "id": "f66793af",
   "metadata": {},
   "source": [
    "## Step 3) Developing the model"
   ]
  },
  {
   "cell_type": "markdown",
   "id": "f55dd034",
   "metadata": {},
   "source": [
    "**Test: Using an untuned CatBoost on SelectKBest dataset**"
   ]
  },
  {
   "cell_type": "code",
   "execution_count": 171,
   "id": "4134d981",
   "metadata": {},
   "outputs": [],
   "source": [
    "catboost_without_tuning = CatBoostRegressor(random_state=1, verbose = False).fit(X_train_catboost_selected, y_train)"
   ]
  },
  {
   "cell_type": "code",
   "execution_count": 172,
   "id": "d9bf2454",
   "metadata": {},
   "outputs": [],
   "source": [
    "#untuned_pred = np.exp(catboost_without_tuning.predict(X_test_all_df.loc[:, X_train_selectkbest_df.columns]))\n",
    "untuned_pred = np.exp(catboost_without_tuning.predict(X_test_all_df.loc[:, list(X_train_catboost_selected.columns)]))"
   ]
  },
  {
   "cell_type": "code",
   "execution_count": 173,
   "id": "16af93b4",
   "metadata": {},
   "outputs": [
    {
     "data": {
      "text/plain": [
       "array([172.57430386, 134.5209258 , 359.66740578, ...,  84.33943559,\n",
       "        93.38951722, 163.25807633])"
      ]
     },
     "execution_count": 173,
     "metadata": {},
     "output_type": "execute_result"
    }
   ],
   "source": [
    "untuned_pred"
   ]
  },
  {
   "cell_type": "code",
   "execution_count": 143,
   "id": "4b36d56d",
   "metadata": {},
   "outputs": [],
   "source": [
    "tuned_pred = np.exp(catboost_selectkbest_model.predict(X_test_all_df.loc[:, X_train_selectkbest_df.columns]))"
   ]
  },
  {
   "cell_type": "markdown",
   "id": "06d32357",
   "metadata": {},
   "source": [
    "### <font color = 'red'>Ensembling CatBoost and GradientBoost</font>"
   ]
  },
  {
   "cell_type": "code",
   "execution_count": 25,
   "id": "cf83dbac",
   "metadata": {},
   "outputs": [],
   "source": [
    "combined_df = pd.concat([X_train_onehot, X_train_non_scaled_poly_df.loc[:, non_zero_coefficients.index]], axis=1)\n",
    "combined_train_df = combined_df.loc[:, ~combined_df.columns.duplicated()]"
   ]
  },
  {
   "cell_type": "code",
   "execution_count": 26,
   "id": "9a898baf",
   "metadata": {},
   "outputs": [],
   "source": [
    "col_set1 = X_train_onehot.columns\n",
    "col_set2 = X_train_non_scaled_poly_df.loc[:, non_zero_coefficients.index].columns"
   ]
  },
  {
   "cell_type": "code",
   "execution_count": 27,
   "id": "320a83bc",
   "metadata": {},
   "outputs": [],
   "source": [
    "cat = CatBoostRegressor(random_state=1, verbose=False)\n",
    "gb = GradientBoostingRegressor(random_state=1, loss = 'huber')"
   ]
  },
  {
   "cell_type": "code",
   "execution_count": 28,
   "id": "cf918d23",
   "metadata": {},
   "outputs": [],
   "source": [
    "cat_pipe1 = Pipeline([\n",
    "    ('column_transformer', ColumnTransformer([('cat1_transform', 'passthrough', col_set1)], remainder='drop')),\n",
    "    ('cat1', cat)\n",
    "])\n",
    "\n",
    "cat_pipe2 = Pipeline([\n",
    "    ('column_transformer', ColumnTransformer([('cat2_transform', 'passthrough', col_set2)], remainder='drop')),\n",
    "    ('cat2', cat)\n",
    "])\n",
    "\n",
    "gb_pipe1 = Pipeline([\n",
    "    ('column_transformer', ColumnTransformer([('gb1_transform', 'passthrough', col_set1)], remainder='drop')),\n",
    "    ('gb1', gb)\n",
    "])\n",
    "\n",
    "gb_pipe2 = Pipeline([\n",
    "    ('column_transformer', ColumnTransformer([('gb2_transform', 'passthrough', col_set2)], remainder='drop')),\n",
    "    ('gb2', gb)\n",
    "])"
   ]
  },
  {
   "cell_type": "code",
   "execution_count": 29,
   "id": "65c1998b",
   "metadata": {},
   "outputs": [
    {
     "name": "stdout",
     "output_type": "stream",
     "text": [
      "Time taken =  3.05 minutes\n"
     ]
    }
   ],
   "source": [
    "start_time = time.time()\n",
    "\n",
    "en_pipeline = StackingRegressor(estimators = [('cat1', cat_pipe1),('cat2', cat_pipe2),\n",
    "                                        ('gb1', gb_pipe1), ('gb2', gb_pipe2)],\n",
    "                     final_estimator=LinearRegression(), cv = KFold(n_splits = 10, shuffle = True, random_state=1))\n",
    "\n",
    "en_pipeline.fit(combined_train_df, y_train)\n",
    "\n",
    "print(\"Time taken = \", np.round((time.time() - start_time)/60,2), \"minutes\")"
   ]
  },
  {
   "cell_type": "markdown",
   "id": "e6ca62b7",
   "metadata": {},
   "source": [
    "### Optimal hyperparameter values"
   ]
  },
  {
   "cell_type": "markdown",
   "id": "7725d463",
   "metadata": {},
   "source": [
    "**I did not tune the hyperparameters of the CatBoost model or the GradientBoost model, meaning that both models simply used their default values. However, I did use the Huber loss function for the GradientBoost model. When I ensembled the models using `StackingRegressor`, I tuned the weights given to each of the models when making the final prediction; the optimal weights are as follows: `cat_pipe1`: 0.60236223, `cat_pipe2`: 0.53961064, `gb_pipe1`: -0.10894311, `gb_pipe2`: -0.02674319**"
   ]
  },
  {
   "cell_type": "code",
   "execution_count": 30,
   "id": "ee54f46b",
   "metadata": {},
   "outputs": [
    {
     "data": {
      "text/plain": [
       "array([ 0.60236223,  0.53961064, -0.10894311, -0.02674319])"
      ]
     },
     "execution_count": 30,
     "metadata": {},
     "output_type": "execute_result"
    }
   ],
   "source": [
    "en_pipeline.final_estimator_.coef_"
   ]
  },
  {
   "cell_type": "markdown",
   "id": "897d6954",
   "metadata": {},
   "source": [
    "## Step 4) Ad-hoc steps for further improving model accuracy"
   ]
  },
  {
   "cell_type": "code",
   "execution_count": 31,
   "id": "d07599c3",
   "metadata": {},
   "outputs": [],
   "source": [
    "pipeline_pred = np.exp((en_pipeline.predict(X_test_all_df.loc[:, combined_train_df.columns])))"
   ]
  },
  {
   "cell_type": "code",
   "execution_count": 39,
   "id": "f722e6a8",
   "metadata": {},
   "outputs": [
    {
     "data": {
      "text/plain": [
       "array([178.86310864, 141.48124472, 358.20633849, ...,  79.17111358,\n",
       "        88.57938117, 134.43386379])"
      ]
     },
     "execution_count": 39,
     "metadata": {},
     "output_type": "execute_result"
    }
   ],
   "source": [
    "pipeline_pred (~108/109)"
   ]
  },
  {
   "cell_type": "code",
   "execution_count": 145,
   "id": "b63a6f02",
   "metadata": {},
   "outputs": [
    {
     "data": {
      "text/plain": [
       "array([139.66575198, 139.57035912, 345.5667462 , ...,  72.45813521,\n",
       "       102.59303862, 144.76731076])"
      ]
     },
     "execution_count": 145,
     "metadata": {},
     "output_type": "execute_result"
    }
   ],
   "source": [
    "untuned_pred"
   ]
  },
  {
   "cell_type": "code",
   "execution_count": 144,
   "id": "439e9abb",
   "metadata": {},
   "outputs": [
    {
     "data": {
      "text/plain": [
       "array([211.80320721, 134.34651985, 326.75807622, ...,  68.32267018,\n",
       "       112.00302502, 145.81607724])"
      ]
     },
     "execution_count": 144,
     "metadata": {},
     "output_type": "execute_result"
    }
   ],
   "source": [
    "tuned_pred"
   ]
  },
  {
   "cell_type": "code",
   "execution_count": 146,
   "id": "1509e620",
   "metadata": {},
   "outputs": [
    {
     "data": {
      "text/plain": [
       "array([175.73447959, 136.95843949, 336.16241121, ...,  70.3904027 ,\n",
       "       107.29803182, 145.291694  ])"
      ]
     },
     "execution_count": 146,
     "metadata": {},
     "output_type": "execute_result"
    }
   ],
   "source": [
    "(tuned_pred + untuned_pred) / 2"
   ]
  },
  {
   "cell_type": "code",
   "execution_count": 174,
   "id": "383e1ca8",
   "metadata": {},
   "outputs": [
    {
     "data": {
      "text/plain": [
       "array([172.57430386, 134.5209258 , 359.66740578, ...,  84.33943559,\n",
       "        93.38951722, 163.25807633])"
      ]
     },
     "execution_count": 174,
     "metadata": {},
     "output_type": "execute_result"
    }
   ],
   "source": [
    "untuned_pred"
   ]
  },
  {
   "cell_type": "markdown",
   "id": "ec1c5d42",
   "metadata": {},
   "source": [
    "## Step 5) Exporting the predictions in the format required to submit on Kaggle"
   ]
  },
  {
   "cell_type": "code",
   "execution_count": 175,
   "id": "31202106",
   "metadata": {},
   "outputs": [],
   "source": [
    "copy_ct.insert(1, \"predicted\", untuned_pred)\n",
    "to_submit = copy_ct.iloc[:, :2]"
   ]
  },
  {
   "cell_type": "code",
   "execution_count": 176,
   "id": "50ecf5f4",
   "metadata": {},
   "outputs": [],
   "source": [
    "to_submit.to_csv('Ensembling - Trial 7 (Untuned CatBoost on CatBoost selected features).csv', index=False)  "
   ]
  },
  {
   "cell_type": "code",
   "execution_count": null,
   "id": "6b7a7b55",
   "metadata": {},
   "outputs": [],
   "source": []
  }
 ],
 "metadata": {
  "kernelspec": {
   "display_name": "Python 3 (ipykernel)",
   "language": "python",
   "name": "python3"
  },
  "language_info": {
   "codemirror_mode": {
    "name": "ipython",
    "version": 3
   },
   "file_extension": ".py",
   "mimetype": "text/x-python",
   "name": "python",
   "nbconvert_exporter": "python",
   "pygments_lexer": "ipython3",
   "version": "3.9.13"
  }
 },
 "nbformat": 4,
 "nbformat_minor": 5
}
